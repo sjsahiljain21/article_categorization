{
 "cells": [
  {
   "cell_type": "markdown",
   "metadata": {},
   "source": [
    "## Importing Libraries"
   ]
  },
  {
   "cell_type": "code",
   "execution_count": null,
   "metadata": {},
   "outputs": [],
   "source": [
    "import pandas as pd\n",
    "import numpy as np\n",
    "\n",
    "\n",
    "import plotly.offline as py\n",
    "py.init_notebook_mode(connected=False)\n",
    "import cufflinks as cf\n",
    "cf.set_config_file(offline=True)\n",
    "\n",
    "from sklearn.metrics import accuracy_score\n",
    "import xgboost\n",
    "import pickle\n",
    "import swifter"
   ]
  },
  {
   "cell_type": "markdown",
   "metadata": {},
   "source": [
    "### Importing data from MongoDb and saving it as pickle file "
   ]
  },
  {
   "cell_type": "code",
   "execution_count": 2,
   "metadata": {},
   "outputs": [],
   "source": [
    "# from pymongo import MongoClient\n",
    "\n",
    "# client = MongoClient()\n",
    "\n",
    "# snapshot = client.articles.snapshot\n",
    "\n",
    "# data = snapshot.find({\n",
    "#     '_source.published_at': {\n",
    "#         '$gte': \"2020-04-01 00:00:00\",\n",
    "#         '$lt': \"2020-05-01 00:00:00\" \n",
    "#     }\n",
    "# })\n",
    "\n",
    "# articles_04_2020 = pd.json_normalize(data)"
   ]
  },
  {
   "cell_type": "code",
   "execution_count": 3,
   "metadata": {},
   "outputs": [],
   "source": [
    "# articles_08_2019.to_pickle(\"articles_08_2019.pkl\")"
   ]
  },
  {
   "cell_type": "markdown",
   "metadata": {},
   "source": [
    "### Reading the files"
   ]
  },
  {
   "cell_type": "code",
   "execution_count": 4,
   "metadata": {},
   "outputs": [],
   "source": [
    "articles_07_2019 = pd.read_pickle('articles_07_2019.pkl')\n",
    "articles_08_2019 = pd.read_pickle('articles_08_2019.pkl')\n",
    "articles_09_2019 = pd.read_pickle('articles_09_2019.pkl')\n",
    "articles_10_2019 = pd.read_pickle('articles_10_2019.pkl')\n",
    "articles_11_2019 = pd.read_pickle('articles_11_2019.pkl')\n",
    "articles_12_2019 = pd.read_pickle('articles_12_2019.pkl')"
   ]
  },
  {
   "cell_type": "markdown",
   "metadata": {},
   "source": [
    "## Exploratory Data Analysis"
   ]
  },
  {
   "cell_type": "code",
   "execution_count": 5,
   "metadata": {},
   "outputs": [],
   "source": [
    "# Merging all the files together\n",
    "\n",
    "all_articles = pd.concat([articles_07_2019, articles_08_2019, articles_09_2019, articles_10_2019, articles_11_2019, articles_12_2019])"
   ]
  },
  {
   "cell_type": "code",
   "execution_count": 6,
   "metadata": {},
   "outputs": [],
   "source": [
    "# Removing unwanted columns\n",
    "\n",
    "all_articles = all_articles.drop(['_id', '_index', '_type', '_score', '_source.top_image_url', '_source.updated_at', '_source.type', '_source.published_at', '_source.lang', '_source.isTestSample'], axis = 1)"
   ]
  },
  {
   "cell_type": "code",
   "execution_count": 110,
   "metadata": {},
   "outputs": [
    {
     "data": {
      "text/plain": [
       "(2461607, 6)"
      ]
     },
     "execution_count": 110,
     "metadata": {},
     "output_type": "execute_result"
    }
   ],
   "source": [
    "all_articles.shape"
   ]
  },
  {
   "cell_type": "code",
   "execution_count": 8,
   "metadata": {},
   "outputs": [],
   "source": [
    "articles_not_null = all_articles[all_articles['_source.section'].isna()==False]"
   ]
  },
  {
   "cell_type": "code",
   "execution_count": 9,
   "metadata": {},
   "outputs": [
    {
     "data": {
      "text/plain": [
       "(1519909, 6)"
      ]
     },
     "execution_count": 9,
     "metadata": {},
     "output_type": "execute_result"
    }
   ],
   "source": [
    "articles_not_null.shape"
   ]
  },
  {
   "cell_type": "code",
   "execution_count": 131,
   "metadata": {},
   "outputs": [
    {
     "name": "stdout",
     "output_type": "stream",
     "text": [
      "Percentage of null articles : 38.26%\n"
     ]
    }
   ],
   "source": [
    "print('Percentage of null articles : {}%'.format(format(((all_articles.shape[0] - articles_not_null.shape[0])/all_articles.shape[0] * 100), '.2f')))"
   ]
  },
  {
   "cell_type": "markdown",
   "metadata": {},
   "source": [
    "#### Out of all the articles crawled, around 40% of the articles have no category assigned. Out of the rest 60% articles, most of the categories are not consistent and are categorized as featuers, concerts, colorado news, etc. So, wherever a category contained the string given below, the articles have been categorized accordingly for consistency. Also, these categories have been chosen as they were most frequent and they were relevant/important."
   ]
  },
  {
   "cell_type": "code",
   "execution_count": 10,
   "metadata": {
    "scrolled": true
   },
   "outputs": [],
   "source": [
    "articles_not_null[\"_source.section\"] = articles_not_null[\"_source.section\"].astype(str)\n",
    "articles_not_null[\"_source.section\"] = articles_not_null[\"_source.section\"].str.lower()"
   ]
  },
  {
   "cell_type": "code",
   "execution_count": 11,
   "metadata": {},
   "outputs": [],
   "source": [
    "articles_not_null['category'] = np.where(articles_not_null[\"_source.section\"].str.contains('auto'), 'auto',\n",
    "                                      np.where(articles_not_null[\"_source.section\"].str.contains('tech'), 'tech',\n",
    "                                              np.where(articles_not_null[\"_source.section\"].str.contains('politics'), 'politics',\n",
    "                                                      np.where(articles_not_null[\"_source.section\"].str.contains('business'), 'business',\n",
    "                                                              np.where(articles_not_null[\"_source.section\"].str.contains('sports'), 'sports',\n",
    "                                                                      np.where(articles_not_null[\"_source.section\"].str.contains('lifestyle'), 'lifestyle',\n",
    "                                                                                np.where(articles_not_null[\"_source.section\"].str.contains('entertainment'), 'entertainment',\n",
    "                                                                                        np.where(articles_not_null[\"_source.section\"].str.contains('transport|logistic'), 'logistics',\n",
    "                                                                                                 np.where(articles_not_null[\"_source.section\"].str.contains('economy'), 'economy',\n",
    "                                                                                                          np.where(articles_not_null[\"_source.section\"].str.contains('stock|market'), 'markets',\n",
    "                                                                                                                   np.where(articles_not_null[\"_source.section\"].str.contains('education'), 'education',\n",
    "                                                                                                                            np.where(articles_not_null[\"_source.section\"].str.contains('health'), 'health',\n",
    "                                                                                                                                     np.where(articles_not_null[\"_source.section\"].str.contains('startup|start-up'), 'startup',\n",
    "                                                                                                                                             np.where(articles_not_null[\"_source.section\"].str.contains('travel|leisure'), 'travel',\n",
    "                                                                                                                                                      np.where(articles_not_null[\"_source.section\"].str.contains('gaming'), 'gaming',\n",
    "                                                                                                                                                              np.where(articles_not_null[\"_source.section\"].str.contains('murder|crime'), 'crime',\n",
    "                                                                                                                                                                      np.where(articles_not_null[\"_source.section\"].str.contains('bank'), 'banking',\n",
    "                                                                                                                                                                              np.where(articles_not_null[\"_source.section\"].str.contains('food'), 'food', \n",
    "                                                                                                                                                                                      np.where(articles_not_null[\"_source.section\"].str.contains('finance'), 'finance', 'others')))))))))))))))))))"
   ]
  },
  {
   "cell_type": "code",
   "execution_count": 12,
   "metadata": {},
   "outputs": [
    {
     "data": {
      "text/html": [
       "<div>\n",
       "<style scoped>\n",
       "    .dataframe tbody tr th:only-of-type {\n",
       "        vertical-align: middle;\n",
       "    }\n",
       "\n",
       "    .dataframe tbody tr th {\n",
       "        vertical-align: top;\n",
       "    }\n",
       "\n",
       "    .dataframe thead th {\n",
       "        text-align: right;\n",
       "    }\n",
       "</style>\n",
       "<table border=\"1\" class=\"dataframe\">\n",
       "  <thead>\n",
       "    <tr style=\"text-align: right;\">\n",
       "      <th></th>\n",
       "      <th>_source.domain</th>\n",
       "      <th>_source.section</th>\n",
       "      <th>_source.body</th>\n",
       "      <th>_source.headline</th>\n",
       "      <th>_source.url</th>\n",
       "      <th>_source.authors</th>\n",
       "      <th>category</th>\n",
       "    </tr>\n",
       "  </thead>\n",
       "  <tbody>\n",
       "    <tr>\n",
       "      <th>0</th>\n",
       "      <td>deccanchronicle.com</td>\n",
       "      <td>lifestyle</td>\n",
       "      <td>Washington: We are surrounded by so many colou...</td>\n",
       "      <td>How does human brain encode visual information</td>\n",
       "      <td>deccanchronicle.com/lifestyle/health-and-wellb...</td>\n",
       "      <td>[{'influencer_id': None, 'name': 'Ani', 'id': 1}]</td>\n",
       "      <td>lifestyle</td>\n",
       "    </tr>\n",
       "    <tr>\n",
       "      <th>1</th>\n",
       "      <td>deccanchronicle.com</td>\n",
       "      <td>lifestyle</td>\n",
       "      <td>Tokyo: Japanese fishermen will set sail on Mon...</td>\n",
       "      <td>Japan&amp;amp;rsquo;s commercial whaling likely to...</td>\n",
       "      <td>deccanchronicle.com/lifestyle/environment/0107...</td>\n",
       "      <td>[{'influencer_id': None, 'name': 'Afp', 'id': 9}]</td>\n",
       "      <td>lifestyle</td>\n",
       "    </tr>\n",
       "    <tr>\n",
       "      <th>2</th>\n",
       "      <td>deccanchronicle.com</td>\n",
       "      <td>nation</td>\n",
       "      <td>Mangaluru: In a shocking incident which brough...</td>\n",
       "      <td>Air India plane skids off Mangaluru runway</td>\n",
       "      <td>deccanchronicle.com/nation/current-affairs/010...</td>\n",
       "      <td>[{'influencer_id': None, 'name': 'Gururaj A Pa...</td>\n",
       "      <td>others</td>\n",
       "    </tr>\n",
       "    <tr>\n",
       "      <th>3</th>\n",
       "      <td>deccanchronicle.com</td>\n",
       "      <td>technology</td>\n",
       "      <td>For a long while Apple had something to show o...</td>\n",
       "      <td>Android to finally get fantastic Apple AirDrop...</td>\n",
       "      <td>deccanchronicle.com/technology/mobiles-and-tab...</td>\n",
       "      <td>[{'influencer_id': None, 'name': 'Deccan Chron...</td>\n",
       "      <td>tech</td>\n",
       "    </tr>\n",
       "    <tr>\n",
       "      <th>4</th>\n",
       "      <td>deccanchronicle.com</td>\n",
       "      <td>technology</td>\n",
       "      <td>Central banks grappling with fast-changing fin...</td>\n",
       "      <td>World&amp;amp;#039;s central banks tackle technolo...</td>\n",
       "      <td>deccanchronicle.com/technology/in-other-news/0...</td>\n",
       "      <td>[{'influencer_id': None, 'name': 'Reuters', 'i...</td>\n",
       "      <td>tech</td>\n",
       "    </tr>\n",
       "    <tr>\n",
       "      <th>...</th>\n",
       "      <td>...</td>\n",
       "      <td>...</td>\n",
       "      <td>...</td>\n",
       "      <td>...</td>\n",
       "      <td>...</td>\n",
       "      <td>...</td>\n",
       "      <td>...</td>\n",
       "    </tr>\n",
       "    <tr>\n",
       "      <th>464234</th>\n",
       "      <td>denverpost.com</td>\n",
       "      <td>colorado news</td>\n",
       "      <td>Citing a recent change in “circumstances,” the...</td>\n",
       "      <td>Aurora deputy chief who responded to drunken o...</td>\n",
       "      <td>denverpost.com/2019/12/24/aurora-deputy-chief-...</td>\n",
       "      <td>[{'id': 280509, 'name': 'Alex Burness', 'influ...</td>\n",
       "      <td>others</td>\n",
       "    </tr>\n",
       "    <tr>\n",
       "      <th>464235</th>\n",
       "      <td>clickondetroit.com</td>\n",
       "      <td>features</td>\n",
       "      <td>DETROIT – The holiday season is alive in Michi...</td>\n",
       "      <td>7 places to see amazing holiday light displays...</td>\n",
       "      <td>clickondetroit.com/features/2019/12/06/7-place...</td>\n",
       "      <td>[{'id': 280249, 'name': 'Ken Haddad', 'influen...</td>\n",
       "      <td>others</td>\n",
       "    </tr>\n",
       "    <tr>\n",
       "      <th>464236</th>\n",
       "      <td>clickondetroit.com</td>\n",
       "      <td>features</td>\n",
       "      <td>DETROIT – Martin Scorsese’s new film, “The Iri...</td>\n",
       "      <td>Fact vs. Myth: What ‘The Irishman’ got wrong a...</td>\n",
       "      <td>clickondetroit.com/features/2019/12/02/fact-vs...</td>\n",
       "      <td>[{'id': 307737, 'name': 'Zak Rosen', 'influenc...</td>\n",
       "      <td>others</td>\n",
       "    </tr>\n",
       "    <tr>\n",
       "      <th>464237</th>\n",
       "      <td>pe.com</td>\n",
       "      <td>music + concerts</td>\n",
       "      <td>Chicago-area rapper Juice WRLD, whose real nam...</td>\n",
       "      <td>Rapper Juice WRLD dies after medical emergency...</td>\n",
       "      <td>pe.com/2019/12/08/rapper-juice-wrld-dies-after...</td>\n",
       "      <td>[{'id': 286911, 'name': 'Associated Press', 'i...</td>\n",
       "      <td>others</td>\n",
       "    </tr>\n",
       "    <tr>\n",
       "      <th>464239</th>\n",
       "      <td>newsweek.com</td>\n",
       "      <td>politics</td>\n",
       "      <td>\\nDuring Wednesday's episode of The Ingraham A...</td>\n",
       "      <td>Fox News Guest Urges Senate to Refuse to Hold ...</td>\n",
       "      <td>newsweek.com/after-trump-impeachment-fox-news-...</td>\n",
       "      <td>[{'id': 287970, 'name': 'Melissa Lemieux', 'in...</td>\n",
       "      <td>politics</td>\n",
       "    </tr>\n",
       "  </tbody>\n",
       "</table>\n",
       "<p>1519909 rows × 7 columns</p>\n",
       "</div>"
      ],
      "text/plain": [
       "             _source.domain   _source.section  \\\n",
       "0       deccanchronicle.com         lifestyle   \n",
       "1       deccanchronicle.com         lifestyle   \n",
       "2       deccanchronicle.com            nation   \n",
       "3       deccanchronicle.com        technology   \n",
       "4       deccanchronicle.com        technology   \n",
       "...                     ...               ...   \n",
       "464234       denverpost.com     colorado news   \n",
       "464235   clickondetroit.com          features   \n",
       "464236   clickondetroit.com          features   \n",
       "464237               pe.com  music + concerts   \n",
       "464239         newsweek.com          politics   \n",
       "\n",
       "                                             _source.body  \\\n",
       "0       Washington: We are surrounded by so many colou...   \n",
       "1       Tokyo: Japanese fishermen will set sail on Mon...   \n",
       "2       Mangaluru: In a shocking incident which brough...   \n",
       "3       For a long while Apple had something to show o...   \n",
       "4       Central banks grappling with fast-changing fin...   \n",
       "...                                                   ...   \n",
       "464234  Citing a recent change in “circumstances,” the...   \n",
       "464235  DETROIT – The holiday season is alive in Michi...   \n",
       "464236  DETROIT – Martin Scorsese’s new film, “The Iri...   \n",
       "464237  Chicago-area rapper Juice WRLD, whose real nam...   \n",
       "464239  \\nDuring Wednesday's episode of The Ingraham A...   \n",
       "\n",
       "                                         _source.headline  \\\n",
       "0          How does human brain encode visual information   \n",
       "1       Japan&amp;rsquo;s commercial whaling likely to...   \n",
       "2              Air India plane skids off Mangaluru runway   \n",
       "3       Android to finally get fantastic Apple AirDrop...   \n",
       "4       World&amp;#039;s central banks tackle technolo...   \n",
       "...                                                   ...   \n",
       "464234  Aurora deputy chief who responded to drunken o...   \n",
       "464235  7 places to see amazing holiday light displays...   \n",
       "464236  Fact vs. Myth: What ‘The Irishman’ got wrong a...   \n",
       "464237  Rapper Juice WRLD dies after medical emergency...   \n",
       "464239  Fox News Guest Urges Senate to Refuse to Hold ...   \n",
       "\n",
       "                                              _source.url  \\\n",
       "0       deccanchronicle.com/lifestyle/health-and-wellb...   \n",
       "1       deccanchronicle.com/lifestyle/environment/0107...   \n",
       "2       deccanchronicle.com/nation/current-affairs/010...   \n",
       "3       deccanchronicle.com/technology/mobiles-and-tab...   \n",
       "4       deccanchronicle.com/technology/in-other-news/0...   \n",
       "...                                                   ...   \n",
       "464234  denverpost.com/2019/12/24/aurora-deputy-chief-...   \n",
       "464235  clickondetroit.com/features/2019/12/06/7-place...   \n",
       "464236  clickondetroit.com/features/2019/12/02/fact-vs...   \n",
       "464237  pe.com/2019/12/08/rapper-juice-wrld-dies-after...   \n",
       "464239  newsweek.com/after-trump-impeachment-fox-news-...   \n",
       "\n",
       "                                          _source.authors   category  \n",
       "0       [{'influencer_id': None, 'name': 'Ani', 'id': 1}]  lifestyle  \n",
       "1       [{'influencer_id': None, 'name': 'Afp', 'id': 9}]  lifestyle  \n",
       "2       [{'influencer_id': None, 'name': 'Gururaj A Pa...     others  \n",
       "3       [{'influencer_id': None, 'name': 'Deccan Chron...       tech  \n",
       "4       [{'influencer_id': None, 'name': 'Reuters', 'i...       tech  \n",
       "...                                                   ...        ...  \n",
       "464234  [{'id': 280509, 'name': 'Alex Burness', 'influ...     others  \n",
       "464235  [{'id': 280249, 'name': 'Ken Haddad', 'influen...     others  \n",
       "464236  [{'id': 307737, 'name': 'Zak Rosen', 'influenc...     others  \n",
       "464237  [{'id': 286911, 'name': 'Associated Press', 'i...     others  \n",
       "464239  [{'id': 287970, 'name': 'Melissa Lemieux', 'in...   politics  \n",
       "\n",
       "[1519909 rows x 7 columns]"
      ]
     },
     "execution_count": 12,
     "metadata": {},
     "output_type": "execute_result"
    }
   ],
   "source": [
    "articles_not_null"
   ]
  },
  {
   "cell_type": "markdown",
   "metadata": {},
   "source": [
    "#### Some of the categories which we needed were not enough for training a machine learning model so these categories have been further extracted from other categories using keywords."
   ]
  },
  {
   "cell_type": "code",
   "execution_count": 30,
   "metadata": {},
   "outputs": [],
   "source": [
    "articles_not_null['category'] = np.where((articles_not_null['_source.headline'].str.contains('logistics|agarwal packers|blue dart|fedex|safexpress|allcargo|dhl express|gati ltd|trucking|transport', case  = False)) & (articles_not_null['category'].str.contains('business|others', case = False)), 'logistics',\n",
    "                                          np.where((articles_not_null['_source.headline'].str.contains('bank', case  = False)) & (articles_not_null['category'].str.contains('business|others', case = False)), 'banking',\n",
    "                                                  np.where((articles_not_null['_source.headline'].str.contains('startup|start-up|fintech|insurtech|fin-tech|insur-tech|series a|series b|series c|series d|seed funding|raises series', case  = False)) & (articles_not_null['category'].str.contains('business|others', case = False)), 'startup',\n",
    "                                                           np.where((articles_not_null['_source.headline'].str.contains('inflation|repo rate|economy|gdp|gst', case  = False)) & (articles_not_null['category'].str.contains('business|others', case = False)), 'economy', \n",
    "                                                                    np.where((articles_not_null['_source.url'].str.contains('travel|tourism', case  = False)) & (articles_not_null['category'].str.contains('lifestyle', case  = False)), 'travel', articles_not_null['category'])))))"
   ]
  },
  {
   "cell_type": "code",
   "execution_count": 31,
   "metadata": {},
   "outputs": [
    {
     "data": {
      "text/plain": [
       "category\n",
       "auto                5987\n",
       "banking            16898\n",
       "business           47604\n",
       "crime              10458\n",
       "economy            15575\n",
       "education          11384\n",
       "entertainment      60068\n",
       "finance             3562\n",
       "food                4260\n",
       "gaming              3874\n",
       "health              8741\n",
       "lifestyle          14084\n",
       "logistics           2953\n",
       "markets            24495\n",
       "others           1163046\n",
       "politics           28446\n",
       "sports             55834\n",
       "startup             8075\n",
       "tech               30799\n",
       "travel              3766\n",
       "dtype: int64"
      ]
     },
     "execution_count": 31,
     "metadata": {},
     "output_type": "execute_result"
    }
   ],
   "source": [
    "articles_not_null.groupby('category').size()"
   ]
  },
  {
   "cell_type": "code",
   "execution_count": 32,
   "metadata": {},
   "outputs": [],
   "source": [
    "articles_not_others = articles_not_null[articles_not_null['category'] != 'others']"
   ]
  },
  {
   "cell_type": "code",
   "execution_count": 33,
   "metadata": {},
   "outputs": [
    {
     "data": {
      "text/plain": [
       "(356863, 7)"
      ]
     },
     "execution_count": 33,
     "metadata": {},
     "output_type": "execute_result"
    }
   ],
   "source": [
    "articles_not_others.shape"
   ]
  },
  {
   "cell_type": "code",
   "execution_count": 34,
   "metadata": {},
   "outputs": [
    {
     "data": {
      "text/html": [
       "<div>\n",
       "<style scoped>\n",
       "    .dataframe tbody tr th:only-of-type {\n",
       "        vertical-align: middle;\n",
       "    }\n",
       "\n",
       "    .dataframe tbody tr th {\n",
       "        vertical-align: top;\n",
       "    }\n",
       "\n",
       "    .dataframe thead th {\n",
       "        text-align: right;\n",
       "    }\n",
       "</style>\n",
       "<table border=\"1\" class=\"dataframe\">\n",
       "  <thead>\n",
       "    <tr style=\"text-align: right;\">\n",
       "      <th></th>\n",
       "      <th>_source.domain</th>\n",
       "      <th>_source.section</th>\n",
       "      <th>_source.body</th>\n",
       "      <th>_source.headline</th>\n",
       "      <th>_source.url</th>\n",
       "      <th>_source.authors</th>\n",
       "      <th>category</th>\n",
       "    </tr>\n",
       "  </thead>\n",
       "  <tbody>\n",
       "    <tr>\n",
       "      <th>0</th>\n",
       "      <td>deccanchronicle.com</td>\n",
       "      <td>lifestyle</td>\n",
       "      <td>Washington: We are surrounded by so many colou...</td>\n",
       "      <td>How does human brain encode visual information</td>\n",
       "      <td>deccanchronicle.com/lifestyle/health-and-wellb...</td>\n",
       "      <td>[{'influencer_id': None, 'name': 'Ani', 'id': 1}]</td>\n",
       "      <td>lifestyle</td>\n",
       "    </tr>\n",
       "    <tr>\n",
       "      <th>1</th>\n",
       "      <td>deccanchronicle.com</td>\n",
       "      <td>lifestyle</td>\n",
       "      <td>Tokyo: Japanese fishermen will set sail on Mon...</td>\n",
       "      <td>Japan&amp;amp;rsquo;s commercial whaling likely to...</td>\n",
       "      <td>deccanchronicle.com/lifestyle/environment/0107...</td>\n",
       "      <td>[{'influencer_id': None, 'name': 'Afp', 'id': 9}]</td>\n",
       "      <td>lifestyle</td>\n",
       "    </tr>\n",
       "    <tr>\n",
       "      <th>3</th>\n",
       "      <td>deccanchronicle.com</td>\n",
       "      <td>technology</td>\n",
       "      <td>For a long while Apple had something to show o...</td>\n",
       "      <td>Android to finally get fantastic Apple AirDrop...</td>\n",
       "      <td>deccanchronicle.com/technology/mobiles-and-tab...</td>\n",
       "      <td>[{'influencer_id': None, 'name': 'Deccan Chron...</td>\n",
       "      <td>tech</td>\n",
       "    </tr>\n",
       "    <tr>\n",
       "      <th>4</th>\n",
       "      <td>deccanchronicle.com</td>\n",
       "      <td>technology</td>\n",
       "      <td>Central banks grappling with fast-changing fin...</td>\n",
       "      <td>World&amp;amp;#039;s central banks tackle technolo...</td>\n",
       "      <td>deccanchronicle.com/technology/in-other-news/0...</td>\n",
       "      <td>[{'influencer_id': None, 'name': 'Reuters', 'i...</td>\n",
       "      <td>tech</td>\n",
       "    </tr>\n",
       "    <tr>\n",
       "      <th>6</th>\n",
       "      <td>deccanchronicle.com</td>\n",
       "      <td>lifestyle</td>\n",
       "      <td>Washington: We all love to preserve the well-d...</td>\n",
       "      <td>Using liquor bottles for decoration can be har...</td>\n",
       "      <td>deccanchronicle.com/lifestyle/health-and-wellb...</td>\n",
       "      <td>[{'influencer_id': None, 'name': 'Ani', 'id': 1}]</td>\n",
       "      <td>lifestyle</td>\n",
       "    </tr>\n",
       "    <tr>\n",
       "      <th>...</th>\n",
       "      <td>...</td>\n",
       "      <td>...</td>\n",
       "      <td>...</td>\n",
       "      <td>...</td>\n",
       "      <td>...</td>\n",
       "      <td>...</td>\n",
       "      <td>...</td>\n",
       "    </tr>\n",
       "    <tr>\n",
       "      <th>464210</th>\n",
       "      <td>marketwatch.com</td>\n",
       "      <td>economy &amp; politics</td>\n",
       "      <td>\\nBEIJING — China’s government says it will po...</td>\n",
       "      <td>China says it will put off tariff hike on U.S....</td>\n",
       "      <td>marketwatch.com/story/china-says-it-will-put-o...</td>\n",
       "      <td>[{'id': 216979, 'name': 'Associated Press', 'i...</td>\n",
       "      <td>politics</td>\n",
       "    </tr>\n",
       "    <tr>\n",
       "      <th>464216</th>\n",
       "      <td>thehill.com</td>\n",
       "      <td>congress blog - politics</td>\n",
       "      <td>\\nTrump administration's plans for SNAP are a ...</td>\n",
       "      <td>Trump administration's plans for SNAP are a sh...</td>\n",
       "      <td>thehill.com/blogs/congress-blog/politics/47432...</td>\n",
       "      <td>[{'id': 216954, 'name': 'Opinion Contributor',...</td>\n",
       "      <td>politics</td>\n",
       "    </tr>\n",
       "    <tr>\n",
       "      <th>464217</th>\n",
       "      <td>thehill.com</td>\n",
       "      <td>congress blog - politics</td>\n",
       "      <td>\\nWelfare is killing the American dream\\n\\n\\n ...</td>\n",
       "      <td>Welfare is killing the American dream | TheHill</td>\n",
       "      <td>thehill.com/blogs/congress-blog/politics/47419...</td>\n",
       "      <td>[{'id': 226028, 'name': 'Cliff Maloney', 'infl...</td>\n",
       "      <td>politics</td>\n",
       "    </tr>\n",
       "    <tr>\n",
       "      <th>464222</th>\n",
       "      <td>moeckern24.de</td>\n",
       "      <td>technologie</td>\n",
       "      <td>Die Marktforschungsstudie von Innovate Insight...</td>\n",
       "      <td>Globaler und regionaler Luftdatenboom markt 20...</td>\n",
       "      <td>moeckern24.de/2019/12/13/globaler-und-regional...</td>\n",
       "      <td>[{'id': 325737, 'name': 'Innovate', 'influence...</td>\n",
       "      <td>tech</td>\n",
       "    </tr>\n",
       "    <tr>\n",
       "      <th>464239</th>\n",
       "      <td>newsweek.com</td>\n",
       "      <td>politics</td>\n",
       "      <td>\\nDuring Wednesday's episode of The Ingraham A...</td>\n",
       "      <td>Fox News Guest Urges Senate to Refuse to Hold ...</td>\n",
       "      <td>newsweek.com/after-trump-impeachment-fox-news-...</td>\n",
       "      <td>[{'id': 287970, 'name': 'Melissa Lemieux', 'in...</td>\n",
       "      <td>politics</td>\n",
       "    </tr>\n",
       "  </tbody>\n",
       "</table>\n",
       "<p>356863 rows × 7 columns</p>\n",
       "</div>"
      ],
      "text/plain": [
       "             _source.domain           _source.section  \\\n",
       "0       deccanchronicle.com                 lifestyle   \n",
       "1       deccanchronicle.com                 lifestyle   \n",
       "3       deccanchronicle.com                technology   \n",
       "4       deccanchronicle.com                technology   \n",
       "6       deccanchronicle.com                 lifestyle   \n",
       "...                     ...                       ...   \n",
       "464210      marketwatch.com        economy & politics   \n",
       "464216          thehill.com  congress blog - politics   \n",
       "464217          thehill.com  congress blog - politics   \n",
       "464222        moeckern24.de               technologie   \n",
       "464239         newsweek.com                  politics   \n",
       "\n",
       "                                             _source.body  \\\n",
       "0       Washington: We are surrounded by so many colou...   \n",
       "1       Tokyo: Japanese fishermen will set sail on Mon...   \n",
       "3       For a long while Apple had something to show o...   \n",
       "4       Central banks grappling with fast-changing fin...   \n",
       "6       Washington: We all love to preserve the well-d...   \n",
       "...                                                   ...   \n",
       "464210  \\nBEIJING — China’s government says it will po...   \n",
       "464216  \\nTrump administration's plans for SNAP are a ...   \n",
       "464217  \\nWelfare is killing the American dream\\n\\n\\n ...   \n",
       "464222  Die Marktforschungsstudie von Innovate Insight...   \n",
       "464239  \\nDuring Wednesday's episode of The Ingraham A...   \n",
       "\n",
       "                                         _source.headline  \\\n",
       "0          How does human brain encode visual information   \n",
       "1       Japan&amp;rsquo;s commercial whaling likely to...   \n",
       "3       Android to finally get fantastic Apple AirDrop...   \n",
       "4       World&amp;#039;s central banks tackle technolo...   \n",
       "6       Using liquor bottles for decoration can be har...   \n",
       "...                                                   ...   \n",
       "464210  China says it will put off tariff hike on U.S....   \n",
       "464216  Trump administration's plans for SNAP are a sh...   \n",
       "464217    Welfare is killing the American dream | TheHill   \n",
       "464222  Globaler und regionaler Luftdatenboom markt 20...   \n",
       "464239  Fox News Guest Urges Senate to Refuse to Hold ...   \n",
       "\n",
       "                                              _source.url  \\\n",
       "0       deccanchronicle.com/lifestyle/health-and-wellb...   \n",
       "1       deccanchronicle.com/lifestyle/environment/0107...   \n",
       "3       deccanchronicle.com/technology/mobiles-and-tab...   \n",
       "4       deccanchronicle.com/technology/in-other-news/0...   \n",
       "6       deccanchronicle.com/lifestyle/health-and-wellb...   \n",
       "...                                                   ...   \n",
       "464210  marketwatch.com/story/china-says-it-will-put-o...   \n",
       "464216  thehill.com/blogs/congress-blog/politics/47432...   \n",
       "464217  thehill.com/blogs/congress-blog/politics/47419...   \n",
       "464222  moeckern24.de/2019/12/13/globaler-und-regional...   \n",
       "464239  newsweek.com/after-trump-impeachment-fox-news-...   \n",
       "\n",
       "                                          _source.authors   category  \n",
       "0       [{'influencer_id': None, 'name': 'Ani', 'id': 1}]  lifestyle  \n",
       "1       [{'influencer_id': None, 'name': 'Afp', 'id': 9}]  lifestyle  \n",
       "3       [{'influencer_id': None, 'name': 'Deccan Chron...       tech  \n",
       "4       [{'influencer_id': None, 'name': 'Reuters', 'i...       tech  \n",
       "6       [{'influencer_id': None, 'name': 'Ani', 'id': 1}]  lifestyle  \n",
       "...                                                   ...        ...  \n",
       "464210  [{'id': 216979, 'name': 'Associated Press', 'i...   politics  \n",
       "464216  [{'id': 216954, 'name': 'Opinion Contributor',...   politics  \n",
       "464217  [{'id': 226028, 'name': 'Cliff Maloney', 'infl...   politics  \n",
       "464222  [{'id': 325737, 'name': 'Innovate', 'influence...       tech  \n",
       "464239  [{'id': 287970, 'name': 'Melissa Lemieux', 'in...   politics  \n",
       "\n",
       "[356863 rows x 7 columns]"
      ]
     },
     "execution_count": 34,
     "metadata": {},
     "output_type": "execute_result"
    }
   ],
   "source": [
    "articles_not_others"
   ]
  },
  {
   "cell_type": "code",
   "execution_count": 35,
   "metadata": {},
   "outputs": [
    {
     "data": {
      "text/plain": [
       "<matplotlib.axes._subplots.AxesSubplot at 0x184f95fbc48>"
      ]
     },
     "execution_count": 35,
     "metadata": {},
     "output_type": "execute_result"
    },
    {
     "data": {
      "image/png": "[encoded data removed]",
      "text/plain": [
       "<Figure size 432x288 with 1 Axes>"
      ]
     },
     "metadata": {
      "needs_background": "light"
     },
     "output_type": "display_data"
    }
   ],
   "source": [
    "articles_not_others.groupby('category').size().reset_index().plot(x = 'category', y = 0, kind = 'bar', legend = False)"
   ]
  },
  {
   "cell_type": "code",
   "execution_count": 36,
   "metadata": {},
   "outputs": [],
   "source": [
    "articles_not_others_1 = articles_not_others.copy()"
   ]
  },
  {
   "cell_type": "markdown",
   "metadata": {},
   "source": [
    "#### Categories such as business, entertainment and sports have been undersampled so that the categories are more balanced."
   ]
  },
  {
   "cell_type": "code",
   "execution_count": 37,
   "metadata": {},
   "outputs": [],
   "source": [
    "for i in ['business', 'entertainment', 'sports']:\n",
    "    articles_not_others_1 = articles_not_others_1.drop(articles_not_others_1[articles_not_others_1['category'] == i].sample(frac=.5, random_state = 0).index)"
   ]
  },
  {
   "cell_type": "code",
   "execution_count": 51,
   "metadata": {},
   "outputs": [
    {
     "data": {
      "text/plain": [
       "(235555, 8)"
      ]
     },
     "execution_count": 51,
     "metadata": {},
     "output_type": "execute_result"
    }
   ],
   "source": [
    "articles_not_others_1.shape"
   ]
  },
  {
   "cell_type": "code",
   "execution_count": 50,
   "metadata": {},
   "outputs": [
    {
     "data": {
      "text/plain": [
       "category\n",
       "auto              5069\n",
       "banking          14330\n",
       "business         20438\n",
       "crime             9192\n",
       "economy          13286\n",
       "education         9714\n",
       "entertainment    25533\n",
       "finance           3057\n",
       "food              3703\n",
       "gaming            3272\n",
       "health            7483\n",
       "lifestyle        11989\n",
       "logistics         2501\n",
       "markets          21001\n",
       "politics         24541\n",
       "sports           23772\n",
       "startup           6872\n",
       "tech             26561\n",
       "travel            3241\n",
       "dtype: int64"
      ]
     },
     "execution_count": 50,
     "metadata": {},
     "output_type": "execute_result"
    }
   ],
   "source": [
    "articles_not_others_1.groupby('category').size()"
   ]
  },
  {
   "cell_type": "code",
   "execution_count": 38,
   "metadata": {},
   "outputs": [
    {
     "data": {
      "text/plain": [
       "<matplotlib.axes._subplots.AxesSubplot at 0x1843b976808>"
      ]
     },
     "execution_count": 38,
     "metadata": {},
     "output_type": "execute_result"
    },
    {
     "data": {
      "image/png": "[encoded data removed]",
      "text/plain": [
       "<Figure size 432x288 with 1 Axes>"
      ]
     },
     "metadata": {
      "needs_background": "light"
     },
     "output_type": "display_data"
    }
   ],
   "source": [
    "articles_not_others_1.groupby('category').size().reset_index().plot(x = 'category', y = 0, kind = 'bar', legend = False)"
   ]
  },
  {
   "cell_type": "markdown",
   "metadata": {},
   "source": [
    "### Data Preprocessing"
   ]
  },
  {
   "cell_type": "code",
   "execution_count": 39,
   "metadata": {
    "scrolled": true
   },
   "outputs": [
    {
     "data": {
      "text/plain": [
       "0         how does human brain encode visual information...\n",
       "1         japan rsquo s commercial whaling likely to spa...\n",
       "3         android to finally get fantastic apple airdrop...\n",
       "4         world s central banks tackle technology with i...\n",
       "6         using liquor bottles for decoration can be har...\n",
       "                                ...                        \n",
       "464210    china says it will put off tariff hike on u s ...\n",
       "464216    trump administration's plans for snap are a sh...\n",
       "464217    welfare is killing the american dream thehill ...\n",
       "464222    globaler und regionaler luftdatenboom markt - ...\n",
       "464239    fox news guest urges senate to refuse to hold ...\n",
       "Name: headline_body, Length: 235555, dtype: object"
      ]
     },
     "execution_count": 39,
     "metadata": {},
     "output_type": "execute_result"
    }
   ],
   "source": [
    "articles_not_others_1['headline_body'] = articles_not_others_1['_source.headline'] + \" \" + articles_not_others_1['_source.body']\n",
    "articles_not_others_1['headline_body'] = articles_not_others_1['headline_body'].str.lower()\n",
    "articles_not_others_1['headline_body'] = articles_not_others_1['headline_body'].str.replace(r'<.*?>|&([a-z0-9]+|#[0-9]{1,6}|#x[0-9a-f]{1,6});', ' ')\n",
    "articles_not_others_1['headline_body'] = articles_not_others_1['headline_body'].str.replace('\\r|\\n', ' ')\n",
    "articles_not_others_1['headline_body'] = articles_not_others_1['headline_body'].str.replace('http\\S+|www.\\S+', ' ', case=False)\n",
    "articles_not_others_1['headline_body'] = articles_not_others_1['headline_body'].str.replace(\"[^a-z-']+\", \" \")\n",
    "articles_not_others_1['headline_body'] = articles_not_others_1['headline_body'].str.replace(\"\\s+\", \" \")\n",
    "articles_not_others_1['headline_body']"
   ]
  },
  {
   "cell_type": "code",
   "execution_count": 40,
   "metadata": {},
   "outputs": [
    {
     "data": {
      "text/plain": [
       "'Washington: We are surrounded by so many colours and shapes that we can distinguish visually but have you ever wondered how our brain interprets them? A recent study has shown that there are neurons that respond selectively to particular combinations of colour and shape.\\r\\n\\r\\nThe study was published in the journal &#39;Science&#39;. \"New genetic sensors and imaging technologies have allowed us to more thoroughly test the link between visual circuits that process colour and shape. These findings provide valuable insight about how visual circuits are connected and organised in the brain,\" said Edward Callaway, senior author of the study.\\r\\n\\r\\nSimilar to a digital camera sensor, light-sensitive cells in the eye (photoreceptors) detect wavelengths of light within specific ranges and at particular locations. This information then travels through the optic nerve to neurons in the visual cortex that interprets the information and begins to decipher the contents of the picture.\\r\\n\\r\\n\"The goal of our study was to better understand how the visual system processes the colours and shapes of visual stimuli. We wanted to apply new imaging techniques to answer these longstanding questions about visual processing,\" said Anupam Garg, Study&#39;s co-first author.\\r\\n\\r\\nThe researchers used imaging technology combined with genetically expressed sensors to study the function of thousands of individual neurons involved in processing colour and shape in the primary visual cortex.\\r\\n\\r\\nDuring long recording periods, roughly 500 possible combinations of colour and shape were tested to find the stimulus that best activated each visually-responsive neuron. The team found that visual neurons selectively responded to colour and shape along a continuum--while some neurons were only activated by either a specific colour or shape, many other neurons were responsive to a particular colour and shape simultaneously, contrary to long-held notions about how visual processing works.\\r\\n\\r\\n\"Our brain encodes visual information efficiently using circuits that are smartly designed. Contrary to what is taught in the classroom that colour and form are processed separately in the early visual cortex and then integrated later by unknown mechanisms--the brain encodes colour and form together in a systematic way,\" said Peichao Li, another co-first author of the study.\\r\\n\\r\\n\"This discovery lays a foundation for understanding how neural circuits make the computations that lead to colour vision. We look forward to building on these findings to determine how the neurons in the visual cortex work together to extract colours and shapes,\" said Callaway.'"
      ]
     },
     "execution_count": 40,
     "metadata": {},
     "output_type": "execute_result"
    }
   ],
   "source": [
    "articles_not_others['_source.body'][0]"
   ]
  },
  {
   "cell_type": "code",
   "execution_count": 41,
   "metadata": {},
   "outputs": [
    {
     "data": {
      "text/plain": [
       "'how does human brain encode visual information washington we are surrounded by so many colours and shapes that we can distinguish visually but have you ever wondered how our brain interprets them a recent study has shown that there are neurons that respond selectively to particular combinations of colour and shape the study was published in the journal science new genetic sensors and imaging technologies have allowed us to more thoroughly test the link between visual circuits that process colour and shape these findings provide valuable insight about how visual circuits are connected and organised in the brain said edward callaway senior author of the study similar to a digital camera sensor light-sensitive cells in the eye photoreceptors detect wavelengths of light within specific ranges and at particular locations this information then travels through the optic nerve to neurons in the visual cortex that interprets the information and begins to decipher the contents of the picture the goal of our study was to better understand how the visual system processes the colours and shapes of visual stimuli we wanted to apply new imaging techniques to answer these longstanding questions about visual processing said anupam garg study s co-first author the researchers used imaging technology combined with genetically expressed sensors to study the function of thousands of individual neurons involved in processing colour and shape in the primary visual cortex during long recording periods roughly possible combinations of colour and shape were tested to find the stimulus that best activated each visually-responsive neuron the team found that visual neurons selectively responded to colour and shape along a continuum--while some neurons were only activated by either a specific colour or shape many other neurons were responsive to a particular colour and shape simultaneously contrary to long-held notions about how visual processing works our brain encodes visual information efficiently using circuits that are smartly designed contrary to what is taught in the classroom that colour and form are processed separately in the early visual cortex and then integrated later by unknown mechanisms--the brain encodes colour and form together in a systematic way said peichao li another co-first author of the study this discovery lays a foundation for understanding how neural circuits make the computations that lead to colour vision we look forward to building on these findings to determine how the neurons in the visual cortex work together to extract colours and shapes said callaway '"
      ]
     },
     "execution_count": 41,
     "metadata": {},
     "output_type": "execute_result"
    }
   ],
   "source": [
    "articles_not_others_1['headline_body'][0]"
   ]
  },
  {
   "cell_type": "code",
   "execution_count": 42,
   "metadata": {},
   "outputs": [
    {
     "data": {
      "text/plain": [
       "'Tokyo: Japanese fishermen will set sail on Monday to hunt whales commercially for the first time in more than three decades, after Tokyo&#39;s controversial decision to withdraw from the International Whaling Commission.\\r\\n\\r\\nThe hunts are likely to spark criticism from environmentalists and anti-whaling countries, but are cause for celebration among whaling communities in Japan, which says the practice is a long-standing tradition.\\r\\n\\r\\nThe issue has been a diplomatic headache for Japan for years, with Tokyo using a loophole in the IWC rules to carry out hunts in protected Antarctic waters for &quot;scientific&quot; research purposes.\\r\\n\\r\\nThose hunts were fiercely criticised, and Japan decided last year to withdraw from the IWC after repeatedly failing to convince the body to allow it to resume full-scale commercial whaling.\\r\\n\\r\\nWhaling ships will set sail on commercial hunts from several parts of Japan on Monday, including the town of Kushiro in northern Japan&#39;s Hokkaido. The group of five small vessels could already be seen at the port there on Sunday. The boats have come from different parts of the country, including Taiji, an area known for dolphin hunts.\\r\\n\\r\\nAnother flotilla of ships that once carried out whaling under the &quot;scientific research&quot; loophole will set out from Shimonoseki port in western Japan. &quot;We are very excited at the resumption of commercial whaling,&quot; Yoshifumi Kai, head of the Japan Small-Type Whaling Association, told AFP ahead of the departure.\\r\\n\\r\\n&quot;My heart is full of hope,&quot; he added. Japan has hunted whales for centuries, and the meat was a key source of protein in the immediate post-World War II years when the country was desperately poor.\\r\\n\\r\\nBut consumption has declined significantly in recent decades &ndash; with much of the population saying they rarely or never eat whale meat &ndash; and activists have pressed Japan to ditch the practice.\\r\\n\\r\\nTokyo&#39;s withdrawal from IWC ended its most provocative expeditions, in protected Antarctic waters, and while it sparked a firestorm of criticism, some campaigners say it is the first step towards the end of Japanese whaling.\\r\\n\\r\\n&quot;Japan is quitting high-seas whaling... that is a huge step towards the end of killing whales for their meat and other products,&quot; said Patrick Ramage, director of marine conservation at the International Fund for Animal Welfare.\\r\\n\\r\\nHe said commercial whaling, in Japanese waters, was unlikely to have much of a future given dwindling subsidies and the shrinking market for whale meat. &quot;What we are seeing is the beginning of the end of Japanese whaling.&quot;'"
      ]
     },
     "execution_count": 42,
     "metadata": {},
     "output_type": "execute_result"
    }
   ],
   "source": [
    "articles_not_others['_source.body'][1]"
   ]
  },
  {
   "cell_type": "code",
   "execution_count": 43,
   "metadata": {},
   "outputs": [
    {
     "data": {
      "text/plain": [
       "'japan rsquo s commercial whaling likely to spark firestorm of criticism tokyo japanese fishermen will set sail on monday to hunt whales commercially for the first time in more than three decades after tokyo s controversial decision to withdraw from the international whaling commission the hunts are likely to spark criticism from environmentalists and anti-whaling countries but are cause for celebration among whaling communities in japan which says the practice is a long-standing tradition the issue has been a diplomatic headache for japan for years with tokyo using a loophole in the iwc rules to carry out hunts in protected antarctic waters for scientific research purposes those hunts were fiercely criticised and japan decided last year to withdraw from the iwc after repeatedly failing to convince the body to allow it to resume full-scale commercial whaling whaling ships will set sail on commercial hunts from several parts of japan on monday including the town of kushiro in northern japan s hokkaido the group of five small vessels could already be seen at the port there on sunday the boats have come from different parts of the country including taiji an area known for dolphin hunts another flotilla of ships that once carried out whaling under the scientific research loophole will set out from shimonoseki port in western japan we are very excited at the resumption of commercial whaling yoshifumi kai head of the japan small-type whaling association told afp ahead of the departure my heart is full of hope he added japan has hunted whales for centuries and the meat was a key source of protein in the immediate post-world war ii years when the country was desperately poor but consumption has declined significantly in recent decades with much of the population saying they rarely or never eat whale meat and activists have pressed japan to ditch the practice tokyo s withdrawal from iwc ended its most provocative expeditions in protected antarctic waters and while it sparked a firestorm of criticism some campaigners say it is the first step towards the end of japanese whaling japan is quitting high-seas whaling that is a huge step towards the end of killing whales for their meat and other products said patrick ramage director of marine conservation at the international fund for animal welfare he said commercial whaling in japanese waters was unlikely to have much of a future given dwindling subsidies and the shrinking market for whale meat what we are seeing is the beginning of the end of japanese whaling '"
      ]
     },
     "execution_count": 43,
     "metadata": {},
     "output_type": "execute_result"
    }
   ],
   "source": [
    "articles_not_others_1['headline_body'][1]"
   ]
  },
  {
   "cell_type": "code",
   "execution_count": 44,
   "metadata": {},
   "outputs": [
    {
     "data": {
      "text/plain": [
       "'\\nWelfare is killing the American dream\\n\\n\\n    By Cliff Maloney, Opinion Contributor —  12/12/19 09:30 AM EST\\n\\n\\n    The views expressed by contributors are their own and not the view of The Hill  \\n\\n\\n'"
      ]
     },
     "execution_count": 44,
     "metadata": {},
     "output_type": "execute_result"
    }
   ],
   "source": [
    "articles_not_others['_source.body'][464217]"
   ]
  },
  {
   "cell_type": "code",
   "execution_count": 45,
   "metadata": {},
   "outputs": [
    {
     "data": {
      "text/plain": [
       "'welfare is killing the american dream thehill welfare is killing the american dream by cliff maloney opinion contributor am est the views expressed by contributors are their own and not the view of the hill '"
      ]
     },
     "execution_count": 45,
     "metadata": {},
     "output_type": "execute_result"
    }
   ],
   "source": [
    "articles_not_others_1['headline_body'][464217]"
   ]
  },
  {
   "cell_type": "code",
   "execution_count": 46,
   "metadata": {},
   "outputs": [
    {
     "data": {
      "text/plain": [
       "'\\nDuring Wednesday\\'s episode of\\xa0The Ingraham Angle on Fox News, former Whitewater independent counsel Robert Ray said that President Donald Trump\\'s impeachment case \"doesn\\'t deserve\" a trial in the senate and that Republican senators should unanimously \"show some courage\" and deny an impeachment trial \"for the benefit of the country.\"\\n\\n\"I do think that the articles will, one way or another, make their way to the senate. Never underestimate the good sense of the American people...\\xa0 this is now become ridiculous, and as you have said for many months, this has got to stop,\" Ray concluded.\\nRay has continuously called for Republican senators to dismiss the articles of impeachment against President Donald Trump. His appearance on the Ingraham Angle is the second time he\\'d made a similar plea on a Fox channel.\\n\"For all the talk by House Republicans about the fact that the president should not be above the law, it would have been nice if one of the impeachment articles charged a violation of law, which they don\\'t,\" Ray said during a Wednesday appearance on America\\'s Newsroom.\\n\\nA lead prosecutor during the Whitewater investigation, Robert Ray led the examination into Bill and Hillary Clinton\\'s real estate investments. The probe spread to include an affair President Clinton had with intern Monica Lewinsky, and stretched throughout Bill Clinton\\'s second term, only concluding when he left office.\\n\\nRay resigned\\xa0in 2002, submitting the probe\\'s final reports on the Monica Lewinsky scandal,\\xa0Madison Guaranty Savings & Loan Association,\\xa0Anthony Marceca,\\xa0Bernard Nussbaum,\\xa0William David Watkins and\\xa0Hillary Clinton before he left. He ran briefly for a New Jersey senate seat in 2002. He left the senate race soon after because he didn\\'t want to cause interparty conflict.\\nAs of 2016, he\\'s\\xa0a private partner with the firm Thompson & Knight LLP and appears as an analyst on Fox News.\\nPresident Trump remains under fire for allegedly asking Ukrainian President Volodymyr Zelenskiy to commit to a \"quid pro quo\" trade with America during a July telephone call. Trump is said to have threatened to withhold military aid that had already been approved unless Zelenskiy provided the president with information on the dealings of former Vice President Joe Biden and his son Hunter involving the Ukrainian gas company Burisma.\\nA whistleblower report by an anonymous individual who described themself as \"deeply concerned\" about the possibility that the president had abused his position cited the existence of \"more than half a dozen officials\" who had heard about the call in a report filed August 12, leading to an impeachment inquiry into President Trump\\'s actions during the July phone call.\\nOn Wednesday, President Trump became the third American president to face impeachment in the country\\'s history. President Trump continues to deny any wrongdoing.'"
      ]
     },
     "execution_count": 46,
     "metadata": {},
     "output_type": "execute_result"
    }
   ],
   "source": [
    "articles_not_others['_source.body'][464239]"
   ]
  },
  {
   "cell_type": "code",
   "execution_count": 47,
   "metadata": {},
   "outputs": [
    {
     "data": {
      "text/plain": [
       "\"fox news guest urges senate to refuse to hold impeachment trial during wednesday's episode of the ingraham angle on fox news former whitewater independent counsel robert ray said that president donald trump's impeachment case doesn't deserve a trial in the senate and that republican senators should unanimously show some courage and deny an impeachment trial for the benefit of the country i do think that the articles will one way or another make their way to the senate never underestimate the good sense of the american people this is now become ridiculous and as you have said for many months this has got to stop ray concluded ray has continuously called for republican senators to dismiss the articles of impeachment against president donald trump his appearance on the ingraham angle is the second time he'd made a similar plea on a fox channel for all the talk by house republicans about the fact that the president should not be above the law it would have been nice if one of the impeachment articles charged a violation of law which they don't ray said during a wednesday appearance on america's newsroom a lead prosecutor during the whitewater investigation robert ray led the examination into bill and hillary clinton's real estate investments the probe spread to include an affair president clinton had with intern monica lewinsky and stretched throughout bill clinton's second term only concluding when he left office ray resigned in submitting the probe's final reports on the monica lewinsky scandal madison guaranty savings loan association anthony marceca bernard nussbaum william david watkins and hillary clinton before he left he ran briefly for a new jersey senate seat in he left the senate race soon after because he didn't want to cause interparty conflict as of he's a private partner with the firm thompson knight llp and appears as an analyst on fox news president trump remains under fire for allegedly asking ukrainian president volodymyr zelenskiy to commit to a quid pro quo trade with america during a july telephone call trump is said to have threatened to withhold military aid that had already been approved unless zelenskiy provided the president with information on the dealings of former vice president joe biden and his son hunter involving the ukrainian gas company burisma a whistleblower report by an anonymous individual who described themself as deeply concerned about the possibility that the president had abused his position cited the existence of more than half a dozen officials who had heard about the call in a report filed august leading to an impeachment inquiry into president trump's actions during the july phone call on wednesday president trump became the third american president to face impeachment in the country's history president trump continues to deny any wrongdoing \""
      ]
     },
     "execution_count": 47,
     "metadata": {},
     "output_type": "execute_result"
    }
   ],
   "source": [
    "articles_not_others_1['headline_body'][464239]"
   ]
  },
  {
   "cell_type": "code",
   "execution_count": 48,
   "metadata": {},
   "outputs": [
    {
     "data": {
      "text/plain": [
       "'Central banks grappling with fast-changing financial technology and companies like Facebook moving into finance will aim to work together more closely through an innovation hub approved on Sunday by the Bank for International Settlements.\\r\\n\\r\\nThe BIS said the intention of the hub, which will be based in Basel, Hong Kong and Singapore, is to improve the functioning of the global financial system and it will identify and develop insights into trends in technology affecting central banking.\\r\\n\\r\\nFacebook&rsquo;s plan to expand into payments and launch its own Libra cryptocurrency were not mentioned in the BIS statement, but the social media giant&rsquo;s move has helped crystallize opinion among central bankers on the urgency of coordinating regulatory responses to financial technology trends.\\r\\n\\r\\n&ldquo;The IT revolution knows no borders and therefore has repercussions in multiple locations simultaneously,&rdquo; BIS Chairman Jens Weidmann said in a statement following the decision to create the hub at a BIS board meeting.\\r\\n\\r\\nThe hub will focus on helping central banks to &ldquo;identify relevant trends in technology, supporting these developments where this is consistent with their mandate, and keeping abreast of regulatory requirements with the objective of safeguarding financial stability,&rdquo; he added.\\r\\n\\r\\nBasel-based BIS, a central bank umbrella group, has already called on politicians to closely scrutinize Big Tech&rsquo;s incursion into finance, a move that raises questions about data privacy, competition, markets and banking.\\r\\n\\r\\nDetails about the hub were limited, and the BIS said it was not able to provide details on investment or staffing levels.\\r\\n\\r\\nThe Swiss National Bank (SNB), the Hong Kong Monetary Authority and the Monetary Authority of Singapore have all signed up to support the initiative.\\r\\n\\r\\nSNB Chairman Thomas Jordan said the central bank would step up its efforts in scrutinizing new financial technology.\\r\\n\\r\\n&ldquo;The SNB is already keeping very close track of technological innovations in the financial area, and works actively within the central banking community in identifying and assessing relevant developments at an early stage,&rdquo; Jordan said.'"
      ]
     },
     "execution_count": 48,
     "metadata": {},
     "output_type": "execute_result"
    }
   ],
   "source": [
    "articles_not_others['_source.body'][4]"
   ]
  },
  {
   "cell_type": "code",
   "execution_count": 49,
   "metadata": {},
   "outputs": [
    {
     "data": {
      "text/plain": [
       "'world s central banks tackle technology with innovation hub central banks grappling with fast-changing financial technology and companies like facebook moving into finance will aim to work together more closely through an innovation hub approved on sunday by the bank for international settlements the bis said the intention of the hub which will be based in basel hong kong and singapore is to improve the functioning of the global financial system and it will identify and develop insights into trends in technology affecting central banking facebook s plan to expand into payments and launch its own libra cryptocurrency were not mentioned in the bis statement but the social media giant s move has helped crystallize opinion among central bankers on the urgency of coordinating regulatory responses to financial technology trends the it revolution knows no borders and therefore has repercussions in multiple locations simultaneously bis chairman jens weidmann said in a statement following the decision to create the hub at a bis board meeting the hub will focus on helping central banks to identify relevant trends in technology supporting these developments where this is consistent with their mandate and keeping abreast of regulatory requirements with the objective of safeguarding financial stability he added basel-based bis a central bank umbrella group has already called on politicians to closely scrutinize big tech s incursion into finance a move that raises questions about data privacy competition markets and banking details about the hub were limited and the bis said it was not able to provide details on investment or staffing levels the swiss national bank snb the hong kong monetary authority and the monetary authority of singapore have all signed up to support the initiative snb chairman thomas jordan said the central bank would step up its efforts in scrutinizing new financial technology the snb is already keeping very close track of technological innovations in the financial area and works actively within the central banking community in identifying and assessing relevant developments at an early stage jordan said '"
      ]
     },
     "execution_count": 49,
     "metadata": {},
     "output_type": "execute_result"
    }
   ],
   "source": [
    "articles_not_others_1['headline_body'][4]"
   ]
  },
  {
   "cell_type": "code",
   "execution_count": 52,
   "metadata": {},
   "outputs": [],
   "source": [
    "articles_not_others_1['headline_body'] = articles_not_others_1['headline_body'].str.split()\n",
    "articles_not_others_1['word_length'] = articles_not_others_1['headline_body'].str.len()\n",
    "\n",
    "# Doing this will remove all the rows having hindi words\n",
    "articles_not_others_1 = articles_not_others_1[articles_not_others_1['word_length'] > 20]"
   ]
  },
  {
   "cell_type": "markdown",
   "metadata": {},
   "source": [
    "#### The model will be trained on the data given below."
   ]
  },
  {
   "cell_type": "code",
   "execution_count": 55,
   "metadata": {},
   "outputs": [
    {
     "data": {
      "text/plain": [
       "(220064, 9)"
      ]
     },
     "execution_count": 55,
     "metadata": {},
     "output_type": "execute_result"
    }
   ],
   "source": [
    "articles_not_others_1.shape"
   ]
  },
  {
   "cell_type": "code",
   "execution_count": 56,
   "metadata": {},
   "outputs": [
    {
     "data": {
      "text/plain": [
       "category\n",
       "auto              4555\n",
       "banking          13548\n",
       "business         18532\n",
       "crime             7336\n",
       "economy          12841\n",
       "education         9225\n",
       "entertainment    23092\n",
       "finance           2843\n",
       "food              3534\n",
       "gaming            3267\n",
       "health            6232\n",
       "lifestyle        11062\n",
       "logistics         2472\n",
       "markets          20723\n",
       "politics         23291\n",
       "sports           21987\n",
       "startup           6862\n",
       "tech             25725\n",
       "travel            2937\n",
       "dtype: int64"
      ]
     },
     "execution_count": 56,
     "metadata": {},
     "output_type": "execute_result"
    }
   ],
   "source": [
    "articles_not_others_1.groupby('category').size()"
   ]
  },
  {
   "cell_type": "code",
   "execution_count": 54,
   "metadata": {},
   "outputs": [
    {
     "data": {
      "text/plain": [
       "<matplotlib.axes._subplots.AxesSubplot at 0x184ee474d08>"
      ]
     },
     "execution_count": 54,
     "metadata": {},
     "output_type": "execute_result"
    },
    {
     "data": {
      "image/png": "[encoded data removed]",
      "text/plain": [
       "<Figure size 432x288 with 1 Axes>"
      ]
     },
     "metadata": {
      "needs_background": "light"
     },
     "output_type": "display_data"
    }
   ],
   "source": [
    "articles_not_others_1.groupby('category').size().reset_index().plot(x = 'category', y = 0, kind = 'bar', legend = False)"
   ]
  },
  {
   "cell_type": "code",
   "execution_count": 57,
   "metadata": {},
   "outputs": [],
   "source": [
    "def remove_short_words(text):\n",
    "    words = [w for w in text if len(w) > 2]\n",
    "    return words"
   ]
  },
  {
   "cell_type": "code",
   "execution_count": 58,
   "metadata": {},
   "outputs": [
    {
     "name": "stderr",
     "output_type": "stream",
     "text": [
      "C:\\Users\\HP\\anaconda3\\lib\\site-packages\\tqdm\\std.py:668: FutureWarning:\n",
      "\n",
      "The Panel class is removed from pandas. Accessing it from the top-level namespace will also be removed in the next version\n",
      "\n"
     ]
    },
    {
     "data": {
      "application/vnd.jupyter.widget-view+json": {
       "model_id": "b485c05884724df6a356e03debc4915b",
       "version_major": 2,
       "version_minor": 0
      },
      "text/plain": [
       "HBox(children=(FloatProgress(value=0.0, description='Pandas Apply', max=220064.0, style=ProgressStyle(descript…"
      ]
     },
     "metadata": {},
     "output_type": "display_data"
    },
    {
     "name": "stdout",
     "output_type": "stream",
     "text": [
      "\n"
     ]
    }
   ],
   "source": [
    "articles_not_others_1['headline_body'] = articles_not_others_1['headline_body'].swifter.apply(lambda x: remove_short_words(x))"
   ]
  },
  {
   "cell_type": "code",
   "execution_count": 59,
   "metadata": {},
   "outputs": [],
   "source": [
    "new_words = [\"div\", \"style\", \"nbsp\", \"font\", \"http\", \"bodytext\", \"class\", \"href\", \"rdquo\", \"ldquo\", \"an\", \"rsquo\", \"news\", \"0o\", \"0s\", \"3a\", \"3b\", \"3d\", \"6b\", \"6o\", \"a\", \"a1\", \"a2\", \"a3\", \"a4\", \"ab\", \"able\", \"about\", \"above\", \"abst\", \"ac\", \"accordance\", \"according\", \"accordingly\", \"across\", \"act\", \"actually\", \"ad\", \"added\", \"adj\", \"ae\", \"af\", \"affected\", \"affecting\", \"affects\", \"after\", \"afterwards\", \"ag\", \"again\", \"against\", \"ah\", \"ain\", \"ain't\", \"aj\", \"al\", \"all\", \"allow\", \"allows\", \"almost\", \"alone\", \"along\", \"already\", \"also\", \"although\", \"always\", \"am\", \"among\", \"amongst\", \"amoungst\", \"amount\", \"an\", \"and\", \"announce\", \"another\", \"any\", \"anybody\", \"anyhow\", \"anymore\", \"anyone\", \"anything\", \"anyway\", \"anyways\", \"anywhere\", \"ao\", \"ap\", \"apart\", \"apparently\", \"appear\", \"appreciate\", \"appropriate\", \"approximately\", \"ar\", \"are\", \"aren\", \"arent\", \"aren't\", \"arise\", \"around\", \"as\", \"a's\", \"aside\", \"ask\", \"asking\", \"associated\", \"at\", \"au\", \"auth\", \"av\", \"available\", \"aw\", \"away\", \"awfully\", \"ax\", \"ay\", \"az\", \"b\", \"b1\", \"b2\", \"b3\", \"ba\", \"back\", \"bc\", \"bd\", \"be\", \"became\", \"because\", \"become\", \"becomes\", \"becoming\", \"been\", \"before\", \"beforehand\", \"begin\", \"beginning\", \"beginnings\", \"begins\", \"behind\", \"being\", \"believe\", \"below\", \"beside\", \"besides\", \"best\", \"better\", \"between\", \"beyond\", \"bi\", \"bill\", \"biol\", \"bj\", \"bk\", \"bl\", \"bn\", \"both\", \"bottom\", \"bp\", \"br\", \"brief\", \"briefly\", \"bs\", \"bt\", \"bu\", \"but\", \"bx\", \"by\", \"c\", \"c1\", \"c2\", \"c3\", \"ca\", \"call\", \"came\", \"can\", \"cannot\", \"cant\", \"can't\", \"cause\", \"causes\", \"cc\", \"cd\", \"ce\", \"certain\", \"certainly\", \"cf\", \"cg\", \"ch\", \"changes\", \"ci\", \"cit\", \"cj\", \"cl\", \"clearly\", \"cm\", \"c'mon\", \"cn\", \"co\", \"com\", \"come\", \"comes\", \"con\", \"concerning\", \"consequently\", \"consider\", \"considering\", \"contain\", \"containing\", \"contains\", \"corresponding\", \"could\", \"couldn\", \"couldnt\", \"couldn't\", \"course\", \"cp\", \"cq\", \"cr\", \"cry\", \"cs\", \"c's\", \"ct\", \"cu\", \"currently\", \"cv\", \"cx\", \"cy\", \"cz\", \"d\", \"d2\", \"da\", \"date\", \"dc\", \"dd\", \"de\", \"definitely\", \"describe\", \"described\", \"despite\", \"detail\", \"df\", \"di\", \"did\", \"didn\", \"didn't\", \"different\", \"dj\", \"dk\", \"dl\", \"do\", \"does\", \"doesn\", \"doesn't\", \"doing\", \"don\", \"done\", \"don't\", \"down\", \"downwards\", \"dp\", \"dr\", \"ds\", \"dt\", \"du\", \"due\", \"during\", \"dx\", \"dy\", \"e\", \"e2\", \"e3\", \"ea\", \"each\", \"ec\", \"ed\", \"edu\", \"ee\", \"ef\", \"effect\", \"eg\", \"ei\", \"eight\", \"eighty\", \"either\", \"ej\", \"el\", \"eleven\", \"else\", \"elsewhere\", \"em\", \"empty\", \"en\", \"end\", \"ending\", \"enough\", \"entirely\", \"eo\", \"ep\", \"eq\", \"er\", \"es\", \"especially\", \"est\", \"et\", \"et-al\", \"etc\", \"eu\", \"ev\", \"even\", \"ever\", \"every\", \"everybody\", \"everyone\", \"everything\", \"everywhere\", \"ex\", \"exactly\", \"example\", \"except\", \"ey\", \"f\", \"f2\", \"fa\", \"far\", \"fc\", \"few\", \"ff\", \"fi\", \"fifteen\", \"fifth\", \"fify\", \"fill\", \"find\", \"fire\", \"first\", \"five\", \"fix\", \"fj\", \"fl\", \"fn\", \"fo\", \"followed\", \"following\", \"follows\", \"for\", \"former\", \"formerly\", \"forth\", \"forty\", \"found\", \"four\", \"fr\", \"from\", \"front\", \"fs\", \"ft\", \"fu\", \"full\", \"further\", \"furthermore\", \"fy\", \"g\", \"ga\", \"gave\", \"ge\", \"get\", \"gets\", \"getting\", \"gi\", \"give\", \"given\", \"gives\", \"giving\", \"gj\", \"gl\", \"go\", \"goes\", \"going\", \"gone\", \"got\", \"gotten\", \"gr\", \"greetings\", \"gs\", \"gy\", \"h\", \"h2\", \"h3\", \"had\", \"hadn\", \"hadn't\", \"happens\", \"hardly\", \"has\", \"hasn\", \"hasnt\", \"hasn't\", \"have\", \"haven\", \"haven't\", \"having\", \"he\", \"hed\", \"he'd\", \"he'll\", \"hello\", \"help\", \"hence\", \"her\", \"here\", \"hereafter\", \"hereby\", \"herein\", \"heres\", \"here's\", \"hereupon\", \"hers\", \"herself\", \"hes\", \"he's\", \"hh\", \"hi\", \"hid\", \"him\", \"himself\", \"his\", \"hither\", \"hj\", \"ho\", \"home\", \"hopefully\", \"how\", \"howbeit\", \"however\", \"how's\", \"hr\", \"hs\", \"http\", \"hu\", \"hundred\", \"hy\", \"i\", \"i2\", \"i3\", \"i4\", \"i6\", \"i7\", \"i8\", \"ia\", \"ib\", \"ibid\", \"ic\", \"id\", \"i'd\", \"ie\", \"if\", \"ig\", \"ignored\", \"ih\", \"ii\", \"ij\", \"il\", \"i'll\", \"im\", \"i'm\", \"immediate\", \"immediately\", \"importance\", \"important\", \"in\", \"inasmuch\", \"inc\", \"indeed\", \"index\", \"indicate\", \"indicated\", \"indicates\", \"information\", \"inner\", \"insofar\", \"instead\", \"interest\", \"into\", \"invention\", \"inward\", \"io\", \"ip\", \"iq\", \"ir\", \"is\", \"isn\", \"isn't\", \"it\", \"itd\", \"it'd\", \"it'll\", \"its\", \"it's\", \"itself\", \"iv\", \"i've\", \"ix\", \"iy\", \"iz\", \"j\", \"jj\", \"jr\", \"js\", \"jt\", \"ju\", \"just\", \"k\", \"ke\", \"keep\", \"keeps\", \"kept\", \"kg\", \"kj\", \"km\", \"know\", \"known\", \"knows\", \"ko\", \"l\", \"l2\", \"la\", \"largely\", \"last\", \"lately\", \"later\", \"latter\", \"latterly\", \"lb\", \"lc\", \"le\", \"least\", \"les\", \"less\", \"lest\", \"let\", \"lets\", \"let's\", \"lf\", \"like\", \"liked\", \"likely\", \"line\", \"little\", \"lj\", \"ll\", \"ll\", \"ln\", \"lo\", \"look\", \"looking\", \"looks\", \"los\", \"lr\", \"ls\", \"lt\", \"ltd\", \"m\", \"m2\", \"ma\", \"made\", \"mainly\", \"make\", \"makes\", \"many\", \"may\", \"maybe\", \"me\", \"mean\", \"means\", \"meantime\", \"meanwhile\", \"merely\", \"mg\", \"might\", \"mightn\", \"mightn't\", \"mill\", \"million\", \"mine\", \"miss\", \"ml\", \"mn\", \"mo\", \"more\", \"moreover\", \"most\", \"mostly\", \"move\", \"mr\", \"mrs\", \"ms\", \"mt\", \"mu\", \"much\", \"mug\", \"must\", \"mustn\", \"mustn't\", \"my\", \"myself\", \"n\", \"n2\", \"na\", \"name\", \"namely\", \"nay\", \"nc\", \"nd\", \"ne\", \"near\", \"nearly\", \"necessarily\", \"necessary\", \"need\", \"needn\", \"needn't\", \"needs\", \"neither\", \"never\", \"nevertheless\", \"new\", \"next\", \"ng\", \"ni\", \"nine\", \"ninety\", \"nj\", \"nl\", \"nn\", \"no\", \"nobody\", \"non\", \"none\", \"nonetheless\", \"noone\", \"nor\", \"normally\", \"nos\", \"not\", \"noted\", \"nothing\", \"novel\", \"now\", \"nowhere\", \"nr\", \"ns\", \"nt\", \"ny\", \"o\", \"oa\", \"ob\", \"obtain\", \"obtained\", \"obviously\", \"oc\", \"od\", \"of\", \"off\", \"often\", \"og\", \"oh\", \"oi\", \"oj\", \"ok\", \"okay\", \"ol\", \"old\", \"om\", \"omitted\", \"on\", \"once\", \"one\", \"ones\", \"only\", \"onto\", \"oo\", \"op\", \"oq\", \"or\", \"ord\", \"os\", \"ot\", \"other\", \"others\", \"otherwise\", \"ou\", \"ought\", \"our\", \"ours\", \"ourselves\", \"out\", \"outside\", \"over\", \"overall\", \"ow\", \"owing\", \"own\", \"ox\", \"oz\", \"p\", \"p1\", \"p2\", \"p3\", \"page\", \"pagecount\", \"pages\", \"par\", \"part\", \"particular\", \"particularly\", \"pas\", \"past\", \"pc\", \"pd\", \"pe\", \"per\", \"perhaps\", \"pf\", \"ph\", \"pi\", \"pj\", \"pk\", \"pl\", \"placed\", \"please\", \"plus\", \"pm\", \"pn\", \"po\", \"poorly\", \"possible\", \"possibly\", \"potentially\", \"pp\", \"pq\", \"pr\", \"predominantly\", \"present\", \"presumably\", \"previously\", \"primarily\", \"probably\", \"promptly\", \"proud\", \"provides\", \"ps\", \"pt\", \"pu\", \"put\", \"py\", \"q\", \"qj\", \"qu\", \"que\", \"quickly\", \"quite\", \"qv\", \"r\", \"r2\", \"ra\", \"ran\", \"rather\", \"rc\", \"rd\", \"re\", \"readily\", \"really\", \"reasonably\", \"recent\", \"recently\", \"ref\", \"refs\", \"regarding\", \"regardless\", \"regards\", \"related\", \"relatively\", \"research\", \"research-articl\", \"respectively\", \"resulted\", \"resulting\", \"results\", \"rf\", \"rh\", \"ri\", \"right\", \"rj\", \"rl\", \"rm\", \"rn\", \"ro\", \"rq\", \"rr\", \"rs\", \"rt\", \"ru\", \"run\", \"rv\", \"ry\", \"s\", \"s2\", \"sa\", \"said\", \"same\", \"saw\", \"say\", \"saying\", \"says\", \"sc\", \"sd\", \"se\", \"sec\", \"second\", \"secondly\", \"section\", \"see\", \"seeing\", \"seem\", \"seemed\", \"seeming\", \"seems\", \"seen\", \"self\", \"selves\", \"sensible\", \"sent\", \"serious\", \"seriously\", \"seven\", \"several\", \"sf\", \"shall\", \"shan\", \"shan't\", \"she\", \"shed\", \"she'd\", \"she'll\", \"shes\", \"she's\", \"should\", \"shouldn\", \"shouldn't\", \"should've\", \"show\", \"showed\", \"shown\", \"showns\", \"shows\", \"si\", \"side\", \"significant\", \"significantly\", \"similar\", \"similarly\", \"since\", \"sincere\", \"six\", \"sixty\", \"sj\", \"sl\", \"slightly\", \"sm\", \"sn\", \"so\", \"some\", \"somebody\", \"somehow\", \"someone\", \"somethan\", \"something\", \"sometime\", \"sometimes\", \"somewhat\", \"somewhere\", \"soon\", \"sorry\", \"sp\", \"specifically\", \"specified\", \"specify\", \"specifying\", \"sq\", \"sr\", \"ss\", \"st\", \"still\", \"stop\", \"strongly\", \"sub\", \"substantially\", \"successfully\", \"such\", \"sufficiently\", \"suggest\", \"sup\", \"sure\", \"sy\", \"system\", \"sz\", \"t\", \"t1\", \"t2\", \"t3\", \"take\", \"taken\", \"taking\", \"tb\", \"tc\", \"td\", \"te\", \"tell\", \"ten\", \"tends\", \"tf\", \"th\", \"than\", \"thank\", \"thanks\", \"thanx\", \"that\", \"that'll\", \"thats\", \"that's\", \"that've\", \"the\", \"their\", \"theirs\", \"them\", \"themselves\", \"then\", \"thence\", \"there\", \"thereafter\", \"thereby\", \"thered\", \"therefore\", \"therein\", \"there'll\", \"thereof\", \"therere\", \"theres\", \"there's\", \"thereto\", \"thereupon\", \"there've\", \"these\", \"they\", \"theyd\", \"they'd\", \"they'll\", \"theyre\", \"they're\", \"they've\", \"thickv\", \"thin\", \"think\", \"third\", \"this\", \"thorough\", \"thoroughly\", \"those\", \"thou\", \"though\", \"thoughh\", \"thousand\", \"three\", \"throug\", \"through\", \"throughout\", \"thru\", \"thus\", \"ti\", \"til\", \"tip\", \"tj\", \"tl\", \"tm\", \"tn\", \"to\", \"together\", \"too\", \"took\", \"top\", \"toward\", \"towards\", \"tp\", \"tq\", \"tr\", \"tried\", \"tries\", \"truly\", \"try\", \"trying\", \"ts\", \"t's\", \"tt\", \"tv\", \"twelve\", \"twenty\", \"twice\", \"two\", \"tx\", \"u\", \"u201d\", \"ue\", \"ui\", \"uj\", \"uk\", \"um\", \"un\", \"under\", \"unfortunately\", \"unless\", \"unlike\", \"unlikely\", \"until\", \"unto\", \"uo\", \"up\", \"upon\", \"ups\", \"ur\", \"us\", \"use\", \"used\", \"useful\", \"usefully\", \"usefulness\", \"uses\", \"using\", \"usually\", \"ut\", \"v\", \"va\", \"value\", \"various\", \"vd\", \"ve\", \"ve\", \"very\", \"via\", \"viz\", \"vj\", \"vo\", \"vol\", \"vols\", \"volumtype\", \"vq\", \"vs\", \"vt\", \"vu\", \"w\", \"wa\", \"want\", \"wants\", \"was\", \"wasn\", \"wasnt\", \"wasn't\", \"way\", \"we\", \"wed\", \"we'd\", \"welcome\", \"well\", \"we'll\", \"well-b\", \"went\", \"were\", \"we're\", \"weren\", \"werent\", \"weren't\", \"we've\", \"what\", \"whatever\", \"what'll\", \"whats\", \"what's\", \"when\", \"whence\", \"whenever\", \"when's\", \"where\", \"whereafter\", \"whereas\", \"whereby\", \"wherein\", \"wheres\", \"where's\", \"whereupon\", \"wherever\", \"whether\", \"which\", \"while\", \"whim\", \"whither\", \"who\", \"whod\", \"whoever\", \"whole\", \"who'll\", \"whom\", \"whomever\", \"whos\", \"who's\", \"whose\", \"why\", \"why's\", \"wi\", \"widely\", \"will\", \"willing\", \"wish\", \"with\", \"within\", \"without\", \"wo\", \"won\", \"wonder\", \"wont\", \"won't\", \"words\", \"world\", \"would\", \"wouldn\", \"wouldnt\", \"wouldn't\", \"www\", \"x\", \"x1\", \"x2\", \"x3\", \"xf\", \"xi\", \"xj\", \"xk\", \"xl\", \"xn\", \"xo\", \"xs\", \"xt\", \"xv\", \"xx\", \"y\", \"y2\", \"yes\", \"yet\", \"yj\", \"yl\", \"you\", \"youd\", \"you'd\", \"you'll\", \"your\", \"youre\", \"you're\", \"yours\", \"yourself\", \"yourselves\", \"you've\", \"yr\", \"ys\", \"yt\", \"z\", \"zero\", \"zi\", \"zz\"]"
   ]
  },
  {
   "cell_type": "code",
   "execution_count": 60,
   "metadata": {},
   "outputs": [],
   "source": [
    "def remove_stopwords(text):\n",
    "    words = [w for w in text if w not in new_words]\n",
    "    return words"
   ]
  },
  {
   "cell_type": "code",
   "execution_count": 61,
   "metadata": {},
   "outputs": [
    {
     "data": {
      "application/vnd.jupyter.widget-view+json": {
       "model_id": "1deab29df57548049aec1a345bb4fb88",
       "version_major": 2,
       "version_minor": 0
      },
      "text/plain": [
       "HBox(children=(FloatProgress(value=0.0, description='Pandas Apply', max=220064.0, style=ProgressStyle(descript…"
      ]
     },
     "metadata": {},
     "output_type": "display_data"
    },
    {
     "name": "stdout",
     "output_type": "stream",
     "text": [
      "\n"
     ]
    }
   ],
   "source": [
    "articles_not_others_1['headline_body'] = articles_not_others_1['headline_body'].swifter.apply(lambda x: remove_stopwords(x))"
   ]
  },
  {
   "cell_type": "code",
   "execution_count": 62,
   "metadata": {},
   "outputs": [],
   "source": [
    "from nltk.stem import WordNetLemmatizer\n",
    "lemmatizer = WordNetLemmatizer()\n",
    "\n",
    "def word_lemmatizer(text):\n",
    "    lem_text = \" \".join([lemmatizer.lemmatize(w) for w in text])\n",
    "    return lem_text"
   ]
  },
  {
   "cell_type": "code",
   "execution_count": 63,
   "metadata": {},
   "outputs": [
    {
     "data": {
      "application/vnd.jupyter.widget-view+json": {
       "model_id": "f3ebd30cb8b6472791eae39a32d7b303",
       "version_major": 2,
       "version_minor": 0
      },
      "text/plain": [
       "HBox(children=(FloatProgress(value=0.0, description='Pandas Apply', max=220064.0, style=ProgressStyle(descript…"
      ]
     },
     "metadata": {},
     "output_type": "display_data"
    },
    {
     "name": "stdout",
     "output_type": "stream",
     "text": [
      "\n"
     ]
    }
   ],
   "source": [
    "articles_not_others_1['headline_body']  = articles_not_others_1['headline_body'].swifter.apply(lambda x: word_lemmatizer(x))"
   ]
  },
  {
   "cell_type": "code",
   "execution_count": 64,
   "metadata": {},
   "outputs": [],
   "source": [
    "articles_not_others_1['category_one_hot'] = np.where(articles_not_others_1[\"category\"] == 'auto', 0,\n",
    "                                                   np.where(articles_not_others_1[\"category\"] == 'tech', 1,\n",
    "                                                            np.where(articles_not_others_1[\"category\"] == 'politics', 2,\n",
    "                                                                     np.where(articles_not_others_1[\"category\"] == 'business', 3,\n",
    "                                                                              np.where(articles_not_others_1[\"category\"] == 'sports', 4,\n",
    "                                                                                       np.where(articles_not_others_1[\"category\"] == 'lifestyle', 5,\n",
    "                                                                                                np.where(articles_not_others_1[\"category\"] == 'entertainment', 6,\n",
    "                                                                                                         np.where(articles_not_others_1[\"category\"] == 'logistics', 7,\n",
    "                                                                                                                  np.where(articles_not_others_1[\"category\"] == 'economy', 8,\n",
    "                                                                                                                           np.where(articles_not_others_1[\"category\"] == 'markets', 9,\n",
    "                                                                                                                                    np.where(articles_not_others_1[\"category\"] == 'education', 10,\n",
    "                                                                                                                                             np.where(articles_not_others_1[\"category\"] == 'health', 11,\n",
    "                                                                                                                                                      np.where(articles_not_others_1[\"category\"] == 'startup', 12,\n",
    "                                                                                                                                                              np.where(articles_not_others_1[\"category\"] == 'travel', 13,\n",
    "                                                                                                                                                                      np.where(articles_not_others_1[\"category\"] == 'gaming', 14,\n",
    "                                                                                                                                                                              np.where(articles_not_others_1[\"category\"] == 'crime', 15,\n",
    "                                                                                                                                                                                      np.where(articles_not_others_1[\"category\"] == 'banking', 16, \n",
    "                                                                                                                                                                                              np.where(articles_not_others_1[\"category\"] == 'food', 17, \n",
    "                                                                                                                                                                                                      np.where(articles_not_others_1[\"category\"] == 'finance', 18, 19)))))))))))))))))))"
   ]
  },
  {
   "cell_type": "code",
   "execution_count": 65,
   "metadata": {},
   "outputs": [],
   "source": [
    "# articles_not_others_1.to_pickle('articles_not_others_2020.pkl')"
   ]
  },
  {
   "cell_type": "code",
   "execution_count": 66,
   "metadata": {},
   "outputs": [],
   "source": [
    "X = articles_not_others_1['headline_body']\n",
    "y = articles_not_others_1['category_one_hot']"
   ]
  },
  {
   "cell_type": "code",
   "execution_count": 67,
   "metadata": {},
   "outputs": [],
   "source": [
    "from sklearn.model_selection import train_test_split\n",
    "\n",
    "X_train, X_test, y_train, y_test = train_test_split(X, y, test_size = 0.20, random_state = 0)"
   ]
  },
  {
   "cell_type": "code",
   "execution_count": 68,
   "metadata": {},
   "outputs": [],
   "source": [
    "# Parameter selection\n",
    "ngram_range = (1,2)\n",
    "min_df = 0.002\n",
    "max_df = 0.5"
   ]
  },
  {
   "cell_type": "code",
   "execution_count": 12,
   "metadata": {},
   "outputs": [],
   "source": []
  },
  {
   "cell_type": "code",
   "execution_count": 69,
   "metadata": {},
   "outputs": [
    {
     "name": "stdout",
     "output_type": "stream",
     "text": [
      "(176051, 11761)\n",
      "(44013, 11761)\n"
     ]
    }
   ],
   "source": [
    "from sklearn.feature_extraction.text import TfidfVectorizer\n",
    "\n",
    "tfidf = TfidfVectorizer(encoding='utf-8',\n",
    "                        ngram_range=ngram_range,\n",
    "                        max_df=max_df,\n",
    "                        min_df=min_df)\n",
    "                        \n",
    "features_train = tfidf.fit_transform(X_train)\n",
    "labels_train = y_train\n",
    "print(features_train.shape)\n",
    "\n",
    "features_test = tfidf.transform(X_test)\n",
    "labels_test = y_test\n",
    "print(features_test.shape)"
   ]
  },
  {
   "cell_type": "code",
   "execution_count": 70,
   "metadata": {},
   "outputs": [],
   "source": [
    "category_section = articles_not_others_1[['category', 'category_one_hot']].drop_duplicates()\n",
    "category_to_section = dict(category_section.values)\n",
    "\n",
    "labels = articles_not_others_1.category_one_hot"
   ]
  },
  {
   "cell_type": "code",
   "execution_count": 71,
   "metadata": {},
   "outputs": [
    {
     "name": "stdout",
     "output_type": "stream",
     "text": [
      "# 'auto' category:\n",
      "  . Most correlated unigrams:\n",
      ". honda\n",
      ". rpm\n",
      ". suzuki\n",
      ". suv\n",
      ". hyundai\n",
      "  . Most correlated bigrams:\n",
      ". lakh ex\n",
      ". ex showroom\n",
      ". maruti suzuki\n",
      "\n",
      "# 'banking' category:\n",
      "  . Most correlated unigrams:\n",
      ". depositor\n",
      ". loan\n",
      ". banking\n",
      ". pmc\n",
      ". bank\n",
      "  . Most correlated bigrams:\n",
      ". punjab maharashtra\n",
      ". bank india\n",
      ". pmc bank\n",
      "\n",
      "# 'business' category:\n",
      "  . Most correlated unigrams:\n",
      ". tonne\n",
      ". boeing\n",
      ". crore\n",
      ". airline\n",
      ". company\n",
      "  . Most correlated bigrams:\n",
      ". point cent\n",
      ". bharti airtel\n",
      ". air india\n",
      "\n",
      "# 'crime' category:\n",
      "  . Most correlated unigrams:\n",
      ". victim\n",
      ". sheriff\n",
      ". suspect\n",
      ". arrested\n",
      ". police\n",
      "  . Most correlated bigrams:\n",
      ". police station\n",
      ". county sheriff\n",
      ". year old\n",
      "\n",
      "# 'economy' category:\n",
      "  . Most correlated unigrams:\n",
      ". tax\n",
      ". inflation\n",
      ". gdp\n",
      ". economy\n",
      ". gst\n",
      "  . Most correlated bigrams:\n",
      ". good service\n",
      ". gst council\n",
      ". gdp growth\n",
      "\n",
      "# 'education' category:\n",
      "  . Most correlated unigrams:\n",
      ". recruitment\n",
      ". student\n",
      ". examination\n",
      ". candidate\n",
      ". exam\n",
      "  . Most correlated bigrams:\n",
      ". visit official\n",
      ". admit card\n",
      ". official website\n",
      "\n",
      "# 'entertainment' category:\n",
      "  . Most correlated unigrams:\n",
      ". kapoor\n",
      ". movie\n",
      ". actress\n",
      ". actor\n",
      ". film\n",
      "  . Most correlated bigrams:\n",
      ". box office\n",
      ". salman khan\n",
      ". bigg bos\n",
      "\n",
      "# 'finance' category:\n",
      "  . Most correlated unigrams:\n",
      ". faxthe\n",
      ". allowance\n",
      ". contributor\n",
      ". pension\n",
      ". thehill\n",
      "  . Most correlated bigrams:\n",
      ". contributor view\n",
      ". mutual fund\n",
      ". zee business\n",
      "\n",
      "# 'food' category:\n",
      "  . Most correlated unigrams:\n",
      ". chef\n",
      ". chicken\n",
      ". restaurant\n",
      ". recipe\n",
      ". dish\n",
      "  . Most correlated bigrams:\n",
      ". food item\n",
      ". ice cream\n",
      ". olive oil\n",
      "\n",
      "# 'gaming' category:\n",
      "  . Most correlated unigrams:\n",
      ". console\n",
      ". nintendo\n",
      ". xbox\n",
      ". game\n",
      ". pubg\n",
      "  . Most correlated bigrams:\n",
      ". battle royale\n",
      ". nintendo switch\n",
      ". pubg mobile\n",
      "\n",
      "# 'health' category:\n",
      "  . Most correlated unigrams:\n",
      ". patient\n",
      ". health\n",
      ". study\n",
      ". cancer\n",
      ". disease\n",
      "  . Most correlated bigrams:\n",
      ". heart disease\n",
      ". study published\n",
      ". blood pressure\n",
      "\n",
      "# 'lifestyle' category:\n",
      "  . Most correlated unigrams:\n",
      ". sleep\n",
      ". colour\n",
      ". fashion\n",
      ". skin\n",
      ". study\n",
      "  . Most correlated bigrams:\n",
      ". facebook twitter\n",
      ". follow story\n",
      ". story facebook\n",
      "\n",
      "# 'logistics' category:\n",
      "  . Most correlated unigrams:\n",
      ". transit\n",
      ". bus\n",
      ". transportation\n",
      ". logistics\n",
      ". transport\n",
      "  . Most correlated bigrams:\n",
      ". motor vehicle\n",
      ". road transport\n",
      ". public transport\n",
      "\n",
      "# 'markets' category:\n",
      "  . Most correlated unigrams:\n",
      ". market\n",
      ". trading\n",
      ". nifty\n",
      ". cent\n",
      ". stock\n",
      "  . Most correlated bigrams:\n",
      ". point cent\n",
      ". bse sensex\n",
      ". target price\n",
      "\n",
      "# 'politics' category:\n",
      "  . Most correlated unigrams:\n",
      ". sena\n",
      ". trump\n",
      ". party\n",
      ". congress\n",
      ". bjp\n",
      "  . Most correlated bigrams:\n",
      ". lok sabha\n",
      ". chief minister\n",
      ". shiv sena\n",
      "\n",
      "# 'sports' category:\n",
      "  . Most correlated unigrams:\n",
      ". coach\n",
      ". league\n",
      ". cricket\n",
      ". team\n",
      ". match\n",
      "  . Most correlated bigrams:\n",
      ". south africa\n",
      ". virat kohli\n",
      ". west indie\n",
      "\n",
      "# 'startup' category:\n",
      "  . Most correlated unigrams:\n",
      ". founder\n",
      ". venture\n",
      ". fintech\n",
      ". funding\n",
      ". startup\n",
      "  . Most correlated bigrams:\n",
      ". startup ecosystem\n",
      ". start up\n",
      ". start ups\n",
      "\n",
      "# 'tech' category:\n",
      "  . Most correlated unigrams:\n",
      ". galaxy\n",
      ". camera\n",
      ". iphone\n",
      ". google\n",
      ". apple\n",
      "  . Most correlated bigrams:\n",
      ". mah battery\n",
      ". galaxy note\n",
      ". samsung galaxy\n",
      "\n",
      "# 'travel' category:\n",
      "  . Most correlated unigrams:\n",
      ". trip\n",
      ". destination\n",
      ". cruise\n",
      ". tourist\n",
      ". travel\n",
      "  . Most correlated bigrams:\n",
      ". san jose\n",
      ". bay area\n",
      ". national park\n",
      "\n"
     ]
    }
   ],
   "source": [
    "# Get the most corelated words with respect to each category\n",
    "\n",
    "from sklearn.feature_selection import chi2\n",
    "import numpy as np\n",
    "\n",
    "for section, category in sorted(category_to_section.items()):\n",
    "    features_chi2 = chi2(features_train, labels_train == category)\n",
    "    indices = np.argsort(features_chi2[0])\n",
    "    feature_names = np.array(tfidf.get_feature_names())[indices]\n",
    "    unigrams = [v for v in feature_names if len(v.split(' ')) == 1]\n",
    "    bigrams = [v for v in feature_names if len(v.split(' ')) == 2]\n",
    "    print(\"# '{}' category:\".format(section))\n",
    "    print(\"  . Most correlated unigrams:\\n. {}\".format('\\n. '.join(unigrams[-5:])))\n",
    "    print(\"  . Most correlated bigrams:\\n. {}\".format('\\n. '.join(bigrams[-3:])))\n",
    "    print(\"\")"
   ]
  },
  {
   "cell_type": "code",
   "execution_count": 73,
   "metadata": {},
   "outputs": [
    {
     "data": {
      "text/plain": [
       "0.7936790973290282"
      ]
     },
     "execution_count": 73,
     "metadata": {},
     "output_type": "execute_result"
    }
   ],
   "source": [
    "from sklearn.linear_model import LogisticRegression\n",
    "from sklearn.model_selection import cross_val_score\n",
    "\n",
    "\n",
    "logistic_reg = LogisticRegression()\n",
    "cv_score_logistic = cross_val_score(logistic_reg, features_train, labels_train, scoring='accuracy', cv=4, n_jobs=-1)\n",
    "cv_score_logistic.mean()"
   ]
  },
  {
   "cell_type": "code",
   "execution_count": 74,
   "metadata": {},
   "outputs": [
    {
     "data": {
      "text/plain": [
       "0.8001772140944476"
      ]
     },
     "execution_count": 74,
     "metadata": {},
     "output_type": "execute_result"
    }
   ],
   "source": [
    "from sklearn.svm import LinearSVC\n",
    "\n",
    "model_svc = LinearSVC()\n",
    "cv_score_svc = cross_val_score(model_svc, features_train, labels_train, scoring='accuracy', cv=4, n_jobs=-1)\n",
    "cv_score_svc.mean()"
   ]
  },
  {
   "cell_type": "code",
   "execution_count": 77,
   "metadata": {},
   "outputs": [
    {
     "data": {
      "text/plain": [
       "0.8053575320655748"
      ]
     },
     "execution_count": 77,
     "metadata": {},
     "output_type": "execute_result"
    }
   ],
   "source": [
    "from sklearn.model_selection import cross_val_score\n",
    "import xgboost\n",
    "\n",
    "xgboost = xgboost.XGBClassifier()\n",
    "cv_score_xgboost = cross_val_score(xgboost, features_train, labels_train, scoring='accuracy', cv=4, n_jobs=-1)\n",
    "cv_score_xgboost.mean()"
   ]
  },
  {
   "cell_type": "code",
   "execution_count": 79,
   "metadata": {},
   "outputs": [
    {
     "data": {
      "text/plain": [
       "0.7683171260608788"
      ]
     },
     "execution_count": 79,
     "metadata": {},
     "output_type": "execute_result"
    }
   ],
   "source": [
    "from sklearn.ensemble import RandomForestClassifier\n",
    "\n",
    "clf = RandomForestClassifier()\n",
    "cv_score_randomf = cross_val_score(clf, features_train, labels_train, scoring='accuracy', cv=4, n_jobs=-1)\n",
    "cv_score_randomf.mean()"
   ]
  },
  {
   "cell_type": "code",
   "execution_count": 81,
   "metadata": {},
   "outputs": [
    {
     "data": {
      "text/plain": [
       "0.7361048715438749"
      ]
     },
     "execution_count": 81,
     "metadata": {},
     "output_type": "execute_result"
    }
   ],
   "source": [
    "from sklearn.naive_bayes import MultinomialNB\n",
    "clf = MultinomialNB()\n",
    "cv_score_multinb = cross_val_score(clf, features_train, labels_train, scoring='accuracy', cv=4, n_jobs=-1)\n",
    "cv_score_multinb.mean()"
   ]
  },
  {
   "cell_type": "code",
   "execution_count": 82,
   "metadata": {},
   "outputs": [
    {
     "data": {
      "text/plain": [
       "0.8039147634811299"
      ]
     },
     "execution_count": 82,
     "metadata": {},
     "output_type": "execute_result"
    }
   ],
   "source": [
    "from sklearn.svm import SVC\n",
    "clf = SVC()\n",
    "cv_score_svc = cross_val_score(clf, features_train, labels_train, scoring='accuracy', cv=4, n_jobs=-1)\n",
    "cv_score_svc.mean()"
   ]
  },
  {
   "cell_type": "markdown",
   "metadata": {},
   "source": [
    "### The accuracy of models are: \n",
    "#### 1.Logistic Regression: 79.4% \n",
    "#### 2. LinearSVC: 80% \n",
    "#### 3. XGBoost: 80.5% \n",
    "#### 4. Random Forest: 76.8% \n",
    "#### 5. MultinomialNB: 73.6% \n",
    "#### 6. SVC: 80.4% "
   ]
  },
  {
   "cell_type": "code",
   "execution_count": 84,
   "metadata": {},
   "outputs": [
    {
     "data": {
      "text/plain": [
       "XGBClassifier(base_score=0.5, booster=None, colsample_bylevel=1,\n",
       "              colsample_bynode=1, colsample_bytree=1, gamma=0, gpu_id=-1,\n",
       "              importance_type='gain', interaction_constraints=None,\n",
       "              learning_rate=0.300000012, max_delta_step=0, max_depth=6,\n",
       "              min_child_weight=1, missing=nan, monotone_constraints=None,\n",
       "              n_estimators=100, n_jobs=0, num_parallel_tree=1,\n",
       "              objective='multi:softprob', random_state=0, reg_alpha=0,\n",
       "              reg_lambda=1, scale_pos_weight=None, subsample=1,\n",
       "              tree_method=None, validate_parameters=False, verbosity=None)"
      ]
     },
     "execution_count": 84,
     "metadata": {},
     "output_type": "execute_result"
    }
   ],
   "source": [
    "import xgboost\n",
    "xgboost = xgboost.XGBClassifier()\n",
    "xgboost.fit(features_train, labels_train)"
   ]
  },
  {
   "cell_type": "code",
   "execution_count": 85,
   "metadata": {},
   "outputs": [],
   "source": [
    "xg_pred = xgboost.predict(features_test)"
   ]
  },
  {
   "cell_type": "code",
   "execution_count": 86,
   "metadata": {},
   "outputs": [
    {
     "name": "stdout",
     "output_type": "stream",
     "text": [
      "81.20\n"
     ]
    }
   ],
   "source": [
    "from sklearn.metrics import accuracy_score\n",
    "\n",
    "accuracy = accuracy_score(labels_test, xg_pred)*100\n",
    "print(format(accuracy, '.2f'))"
   ]
  },
  {
   "cell_type": "code",
   "execution_count": 119,
   "metadata": {},
   "outputs": [],
   "source": [
    "xg_pred_train = xgboost.predict(features_train)"
   ]
  },
  {
   "cell_type": "code",
   "execution_count": 120,
   "metadata": {},
   "outputs": [
    {
     "name": "stdout",
     "output_type": "stream",
     "text": [
      "89.83\n"
     ]
    }
   ],
   "source": [
    "from sklearn.metrics import accuracy_score\n",
    "\n",
    "accuracy_train = accuracy_score(labels_train, xg_pred_train)*100\n",
    "print(format(accuracy_train, '.2f'))"
   ]
  },
  {
   "cell_type": "markdown",
   "metadata": {},
   "source": [
    "#### Accuracy with the test data-set: 81.2%\n",
    "#### Accuracy with the trained data-set: 89.8%\n",
    "#### Since the accuracy with the trained data-set is not very high, the model is not overfitted."
   ]
  },
  {
   "cell_type": "code",
   "execution_count": 87,
   "metadata": {},
   "outputs": [
    {
     "data": {
      "image/png": "[encoded data removed]",
      "text/plain": [
       "<Figure size 1800x1080 with 2 Axes>"
      ]
     },
     "metadata": {
      "needs_background": "light"
     },
     "output_type": "display_data"
    }
   ],
   "source": [
    "from sklearn.metrics import confusion_matrix\n",
    "from matplotlib import pyplot as plt\n",
    "import seaborn as sns\n",
    "from matplotlib.pyplot import savefig\n",
    "aux_df = articles_not_others_1[['category', 'category_one_hot']].drop_duplicates().sort_values('category_one_hot')\n",
    "conf_matrix = confusion_matrix(labels_test, xg_pred)\n",
    "plt.figure(figsize=(25, 15))\n",
    "sns.heatmap(conf_matrix, \n",
    "            annot=True,\n",
    "            fmt = '',\n",
    "            xticklabels=aux_df['category'].values, \n",
    "            yticklabels=aux_df['category'].values,\n",
    "            cmap=\"Blues\")\n",
    "plt.ylabel('Predicted')\n",
    "plt.xlabel('Actual')\n",
    "# plt.savefig(\"category_heatmap.png\")\n",
    "plt.show()\n",
    "plt.close()"
   ]
  },
  {
   "cell_type": "code",
   "execution_count": 111,
   "metadata": {},
   "outputs": [],
   "source": [
    "# Parameter selection\n",
    "ngram_range = (1,2)\n",
    "min_df = 0.002\n",
    "max_df = 0.5"
   ]
  },
  {
   "cell_type": "code",
   "execution_count": 117,
   "metadata": {},
   "outputs": [
    {
     "name": "stdout",
     "output_type": "stream",
     "text": [
      "(220064, 11757)\n"
     ]
    }
   ],
   "source": [
    "from sklearn.feature_extraction.text import TfidfVectorizer\n",
    "\n",
    "tfidf = TfidfVectorizer(encoding='utf-8',\n",
    "                        ngram_range=ngram_range,\n",
    "                        max_df=max_df,\n",
    "                        min_df=min_df)\n",
    "                        \n",
    "features_train = tfidf.fit_transform(X)\n",
    "labels_train = y\n",
    "print(features_train.shape)\n",
    "\n",
    "# features_test = tfidf.transform(X_test)\n",
    "# labels_test = y_test\n",
    "# print(features_test.shape)"
   ]
  },
  {
   "cell_type": "code",
   "execution_count": 114,
   "metadata": {},
   "outputs": [
    {
     "data": {
      "text/plain": [
       "XGBClassifier(base_score=0.5, booster=None, colsample_bylevel=1,\n",
       "              colsample_bynode=1, colsample_bytree=1, gamma=0, gpu_id=-1,\n",
       "              importance_type='gain', interaction_constraints=None,\n",
       "              learning_rate=0.300000012, max_delta_step=0, max_depth=6,\n",
       "              min_child_weight=1, missing=nan, monotone_constraints=None,\n",
       "              n_estimators=100, n_jobs=0, num_parallel_tree=1,\n",
       "              objective='multi:softprob', random_state=0, reg_alpha=0,\n",
       "              reg_lambda=1, scale_pos_weight=None, subsample=1,\n",
       "              tree_method=None, validate_parameters=False, verbosity=None)"
      ]
     },
     "execution_count": 114,
     "metadata": {},
     "output_type": "execute_result"
    }
   ],
   "source": [
    "import xgboost\n",
    "xgboost = xgboost.XGBClassifier()\n",
    "xgboost.fit(features_train, labels_train)"
   ]
  },
  {
   "cell_type": "code",
   "execution_count": null,
   "metadata": {},
   "outputs": [],
   "source": [
    "pickle.dump(tfidf, open('tfidf_2020.pkl', 'wb'))\n",
    "pickle.dump(xgboost, open('xgboost_2020.pkl', 'wb'))"
   ]
  },
  {
   "cell_type": "markdown",
   "metadata": {},
   "source": [
    "## Final Conclusion:"
   ]
  },
  {
   "cell_type": "code",
   "execution_count": null,
   "metadata": {},
   "outputs": [],
   "source": []
  }
 ],
 "metadata": {
  "kernelspec": {
   "display_name": "Python 3",
   "language": "python",
   "name": "python3"
  },
  "language_info": {
   "codemirror_mode": {
    "name": "ipython",
    "version": 3
   },
   "file_extension": ".py",
   "mimetype": "text/x-python",
   "name": "python",
   "nbconvert_exporter": "python",
   "pygments_lexer": "ipython3",
   "version": "3.7.7"
  }
 },
 "nbformat": 4,
 "nbformat_minor": 4
}
